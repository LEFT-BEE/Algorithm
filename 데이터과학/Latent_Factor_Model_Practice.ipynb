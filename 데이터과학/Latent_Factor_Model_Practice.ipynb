{
  "nbformat": 4,
  "nbformat_minor": 0,
  "metadata": {
    "colab": {
      "name": "Latent Factor Model Practice.ipynb",
      "provenance": [],
      "mount_file_id": "1G6nv_z9tqYcw0VZuN9fLAeTpA-A5fYhQ",
      "authorship_tag": "ABX9TyMNh1L4knqT3eq+pTiV5qcp",
      "include_colab_link": true
    },
    "kernelspec": {
      "name": "python3",
      "display_name": "Python 3"
    },
    "language_info": {
      "name": "python"
    }
  },
  "cells": [
    {
      "cell_type": "markdown",
      "metadata": {
        "id": "view-in-github",
        "colab_type": "text"
      },
      "source": [
        "<a href=\"https://colab.research.google.com/github/LEFT-BEE/KMU-Algorithm/blob/master/Latent_Factor_Model_Practice.ipynb\" target=\"_parent\"><img src=\"https://colab.research.google.com/assets/colab-badge.svg\" alt=\"Open In Colab\"/></a>"
      ]
    },
    {
      "cell_type": "code",
      "metadata": {
        "colab": {
          "base_uri": "https://localhost:8080/"
        },
        "id": "AhVwjfBJcZvY",
        "outputId": "8cc3a143-c0a6-4806-f279-faac6790c10e"
      },
      "source": [
        "from google.colab import drive\n",
        "drive.mount('/content/gdrive')"
      ],
      "execution_count": 2,
      "outputs": [
        {
          "output_type": "stream",
          "name": "stdout",
          "text": [
            "Mounted at /content/gdrive\n"
          ]
        }
      ]
    },
    {
      "cell_type": "markdown",
      "metadata": {
        "id": "XX2YvwTMc5oG"
      },
      "source": [
        "# Latent Factir Model Practice"
      ]
    },
    {
      "cell_type": "markdown",
      "metadata": {
        "id": "rnqtWFJ6sHOH"
      },
      "source": [
        "## 데이터 전처리"
      ]
    },
    {
      "cell_type": "code",
      "metadata": {
        "id": "VUhJPjckcqHy"
      },
      "source": [
        "import torch\n",
        "import pandas as pd\n",
        "import torch.nn.functional as F\n",
        "import matplotlib.pyplot as plt"
      ],
      "execution_count": 3,
      "outputs": []
    },
    {
      "cell_type": "code",
      "metadata": {
        "id": "vAjswOBec2ZJ",
        "colab": {
          "base_uri": "https://localhost:8080/"
        },
        "outputId": "9f2c29a6-6cf2-4208-d3d6-e45129eb6129"
      },
      "source": [
        "#판다스를 이용하여 파일 불러오기\n",
        "!ls \"/content/gdrive/MyDrive/국민대/데이터과학\"\n",
        "\n",
        "train = pd.read_csv(\"/content/gdrive/MyDrive/국민대/데이터과학/ml-100k/ua.base\", sep=\"\\t\", names=['user', 'movie', 'rating', 'timestamp'])\n",
        "test = pd.read_csv(\"/content/gdrive/MyDrive/국민대/데이터과학/ml-100k/ua.test\", sep=\"\\t\", names=['user', 'movie', 'rating', 'timestamp'])"
      ],
      "execution_count": 4,
      "outputs": [
        {
          "output_type": "stream",
          "name": "stdout",
          "text": [
            "'logistic regression.ipynb'   Softmax_Regression_Pratice.ipynb\n",
            " ml-100k\t\t      Untitled0.ipynb\n",
            " ml-25m\n"
          ]
        }
      ]
    },
    {
      "cell_type": "code",
      "metadata": {
        "id": "ubnPRa-Bdije"
      },
      "source": [
        "items = torch.LongTensor(train['movie'])\n",
        "users = torch.LongTensor(train['user'])\n",
        "ratings = torch.FloatTensor(train['rating'])\n",
        "items_test = torch.LongTensor(test['movie'])\n",
        "users_test = torch.LongTensor(test['user'])\n",
        "ratings_test = torch.FloatTensor(test['rating'])"
      ],
      "execution_count": 5,
      "outputs": []
    },
    {
      "cell_type": "markdown",
      "metadata": {
        "id": "r7LG82GssrOt"
      },
      "source": [
        "## 모델구현 및 학습"
      ]
    },
    {
      "cell_type": "markdown",
      "metadata": {
        "id": "QstL9tgTs-H3"
      },
      "source": [
        "$H(i,x) = p_i \\cdot p_j + bias_{user} +  bias_{item} + mean$\n",
        "\n",
        "$cost(P,Q) = \\sum_{(i,j) \\in R}(r_{xi} - H(i,x))^2 + \\lambda 1\\sum P^2 + \\lambda 2\\sum Q^2 +\\lambda 3\\sum bias_{item}^2 + \\lambda 4\\sum bias_{user}^2$\n"
      ]
    },
    {
      "cell_type": "code",
      "metadata": {
        "id": "HOjT7UqOCl7E"
      },
      "source": [
        "#하이퍼 파라미터 \n",
        "rank = 10\n",
        "numItems = items.max() + 1\n",
        "numUsers = users.max() + 1\n",
        "P = torch.randn(numItems, rank, requires_grad=True) \n",
        "Q = torch.randn(numUsers, rank, requires_grad=True)\n",
        "bias_item = torch.randn(numItems, requires_grad=True)\n",
        "bias_user = torch.randn(numUsers, requires_grad=True)\n",
        "mean = (ratings.sum() / len(ratings)).item() #레이팅의 평균"
      ],
      "execution_count": 28,
      "outputs": []
    },
    {
      "cell_type": "code",
      "metadata": {
        "id": "5spdlyqz4gzs"
      },
      "source": [
        "#하이퍼파라미터\n",
        "Epoch = 1000\n",
        "LR = 0.1\n",
        "optimizer = torch.optim.Adam([P,Q ,bias_item, bias_user] , lr = LR)\n",
        "lambda1 = 0.0001\n",
        "lambda2 = 0.0001\n",
        "lambda3 = 0.0001\n",
        "lambda4 = 0.0001"
      ],
      "execution_count": 29,
      "outputs": []
    },
    {
      "cell_type": "code",
      "metadata": {
        "colab": {
          "base_uri": "https://localhost:8080/"
        },
        "id": "pMypUqF5sOql",
        "outputId": "b4874536-ead2-468a-d064-f6759398159b"
      },
      "source": [
        "X = []\n",
        "Y = [] \n",
        "Y_test = []\n",
        "optimizer = torch.optim.Adam([P,Q ,bias_item, bias_user] , lr = LR)\n",
        "\n",
        "for epoch in range(Epoch):\n",
        "  hypothesis = torch.sum(P[items] * Q[users], dim= 1) + mean + bias_item[items] + bias_user[users]\n",
        "  cost = F.mse_loss(hypothesis ,ratings)\n",
        "  loss = cost + lambda1 * torch.sum(P ** 2) + lambda2 * torch.sum(Q ** 2) +lambda3 * torch.sum(bias_item ** 2) + lambda4 * torch.sum(bias_user ** 2)\n",
        "\n",
        "  optimizer.zero_grad()\n",
        "  loss.backward()\n",
        "  optimizer.step()\n",
        "\n",
        "  with torch.no_grad():  \n",
        "    X.append(epoch)\n",
        "    Y.append(cost)\n",
        "\n",
        "    hypo_test = torch.sum(P[items_test] * Q[users_test], dim=1) + mean + bias_item[items_test] + bias_user[users_test]\n",
        "    cost_test = F.mse_loss(hypo_test, ratings_test)\n",
        "    Y_test.append(cost_test)\n",
        "\n",
        "  if epoch % 100 == 0:\n",
        "    print(\"epoch: {}, cost: {:.6f}\" .format(epoch, cost.item()))\n",
        " "
      ],
      "execution_count": 30,
      "outputs": [
        {
          "output_type": "stream",
          "name": "stdout",
          "text": [
            "epoch: 0, cost: 13.020241\n",
            "epoch: 100, cost: 0.606150\n",
            "epoch: 200, cost: 0.579136\n",
            "epoch: 300, cost: 0.574743\n",
            "epoch: 400, cost: 0.573548\n",
            "epoch: 500, cost: 0.573148\n",
            "epoch: 600, cost: 0.572909\n",
            "epoch: 700, cost: 0.572701\n",
            "epoch: 800, cost: 0.572534\n",
            "epoch: 900, cost: 0.572407\n"
          ]
        }
      ]
    },
    {
      "cell_type": "code",
      "metadata": {
        "colab": {
          "base_uri": "https://localhost:8080/"
        },
        "id": "T5PG-xe84-Qe",
        "outputId": "1481e029-09c7-41b7-f820-7c77d0d598fd"
      },
      "source": [
        "print(cost_test)"
      ],
      "execution_count": 31,
      "outputs": [
        {
          "output_type": "stream",
          "name": "stdout",
          "text": [
            "tensor(0.8686)\n"
          ]
        }
      ]
    },
    {
      "cell_type": "code",
      "metadata": {
        "colab": {
          "base_uri": "https://localhost:8080/",
          "height": 282
        },
        "id": "OraJUXho1wNT",
        "outputId": "f8763059-3e73-4ace-f729-d2ea9ee3237f"
      },
      "source": [
        "plt.ylabel(\"MSE\")\n",
        "plt.xlabel(\"Epoch\")\n",
        "plt.plot(X,Y,c=\"black\" , label = \"Training MSE\")\n",
        "plt.plot(X,Y_test, c=\"red\", label=\"Test MSE\")\n",
        "plt.legend()\n",
        "plt.show()"
      ],
      "execution_count": null,
      "outputs": [
        {
          "output_type": "display_data",
          "data": {
            "image/png": "[encoded data removed]",
            "text/plain": [
              "<Figure size 432x288 with 1 Axes>"
            ]
          },
          "metadata": {
            "needs_background": "light"
          }
        }
      ]
    },
    {
      "cell_type": "markdown",
      "metadata": {
        "id": "8ARj-M9y2ctM"
      },
      "source": [
        "## 파라미터조정 "
      ]
    },
    {
      "cell_type": "code",
      "metadata": {
        "id": "ptAeX8iaBzdq"
      },
      "source": [
        "import math"
      ],
      "execution_count": 122,
      "outputs": []
    },
    {
      "cell_type": "code",
      "metadata": {
        "id": "62mS3Uru2e8p"
      },
      "source": [
        "#하이퍼 파라미터 \n",
        "rank = 50\n",
        "numItems = items.max() + 1\n",
        "numUsers = users.max() + 1\n",
        "P = torch.randn(numItems, rank, requires_grad=True) \n",
        "Q = torch.randn(numUsers, rank, requires_grad=True)\n",
        "bias_item = torch.randn(numItems, requires_grad=True)\n",
        "bias_user = torch.randn(numUsers, requires_grad=True)\n",
        "mean = (ratings.sum() / len(ratings)).item() #레이팅의 평균"
      ],
      "execution_count": 144,
      "outputs": []
    },
    {
      "cell_type": "code",
      "metadata": {
        "id": "enhwoUU43u3b"
      },
      "source": [
        "#하이퍼파라미터\n",
        "Epoch = 2000\n",
        "LR = 0.99\n",
        "optimizer = torch.optim.Adam([P,Q ,bias_item, bias_user] , lr = LR)\n",
        "lambda1 = 0.0001\n",
        "lambda2 = 0.0001\n",
        "lambda3 = 0.0001\n",
        "lambda4 =  0.0001"
      ],
      "execution_count": 145,
      "outputs": []
    },
    {
      "cell_type": "code",
      "metadata": {
        "colab": {
          "base_uri": "https://localhost:8080/"
        },
        "id": "fdGsdSww3wx7",
        "outputId": "0de4c6a0-4c97-4374-9938-44f3ceb2ae9a"
      },
      "source": [
        "X = []\n",
        "Y = [] \n",
        "Y_test = []\n",
        "\n",
        "for epoch in range(1, Epoch):\n",
        "  optimizer = torch.optim.Adam([P,Q ,bias_item, bias_user] , lr = LR)\n",
        "  hypothesis = torch.sum((P[items]) * Q[users], dim= 1) + mean + bias_item[items] + bias_user[users]\n",
        "  cost = F.mse_loss(hypothesis ,ratings)\n",
        "  loss = cost + lambda1 * torch.sum(P ** 2) + lambda2 * torch.sum(Q ** 2) +lambda3 * torch.sum(bias_item ** 2) + lambda4 * torch.sum(bias_user ** 2)\n",
        "\n",
        "  optimizer.zero_grad()\n",
        "  loss.backward()\n",
        "  optimizer.step()\n",
        "\n",
        "\n",
        "\n",
        "  with torch.no_grad():  \n",
        "    X.append(epoch)\n",
        "    Y.append(cost)\n",
        "\n",
        "    hypo_test = torch.sum(P[items_test] * Q[users_test], dim=1) + mean + bias_item[items_test] + bias_user[users_test]\n",
        "    cost_test = F.mse_loss(hypo_test, ratings_test)\n",
        "    Y_test.append(cost_test)\n",
        "\n",
        "  if epoch % 100 == 0:\n",
        "    print(\"epoch: {}, cost: {:.6f}\" .format(epoch, cost.item()))\n",
        "  if epoch%30 ==0:\n",
        "    LR = (1+ math.cos((epoch*math.pi) / Epoch)) * 0.5 * LR\n",
        "\n"
      ],
      "execution_count": 146,
      "outputs": [
        {
          "output_type": "stream",
          "name": "stdout",
          "text": [
            "epoch: 100, cost: 582.330444\n",
            "epoch: 200, cost: 401.435791\n",
            "epoch: 300, cost: 206.264053\n",
            "epoch: 400, cost: 89.245140\n",
            "epoch: 500, cost: 6.462314\n",
            "epoch: 600, cost: 1.693665\n",
            "epoch: 700, cost: 0.399998\n",
            "epoch: 800, cost: 0.331174\n",
            "epoch: 900, cost: 0.319914\n",
            "epoch: 1000, cost: 0.317011\n",
            "epoch: 1100, cost: 0.316616\n",
            "epoch: 1200, cost: 0.316598\n",
            "epoch: 1300, cost: 0.316598\n",
            "epoch: 1400, cost: 0.316598\n",
            "epoch: 1500, cost: 0.316598\n",
            "epoch: 1600, cost: 0.316598\n",
            "epoch: 1700, cost: 0.316598\n",
            "epoch: 1800, cost: 0.316598\n",
            "epoch: 1900, cost: 0.316598\n"
          ]
        }
      ]
    },
    {
      "cell_type": "code",
      "metadata": {
        "colab": {
          "base_uri": "https://localhost:8080/"
        },
        "id": "NPYeKyWq4whL",
        "outputId": "ad391a36-fda8-4468-eda0-fa9217eaa959"
      },
      "source": [
        "cost_test"
      ],
      "execution_count": 147,
      "outputs": [
        {
          "output_type": "execute_result",
          "data": {
            "text/plain": [
              "tensor(0.8858)"
            ]
          },
          "metadata": {},
          "execution_count": 147
        }
      ]
    },
    {
      "cell_type": "code",
      "metadata": {
        "colab": {
          "base_uri": "https://localhost:8080/",
          "height": 282
        },
        "id": "v705DM883ycL",
        "outputId": "aed53ee7-c5ff-4d5e-a363-10b3687b0604"
      },
      "source": [
        "plt.ylabel(\"MSE\")\n",
        "plt.xlabel(\"Epoch\")\n",
        "plt.plot(X,Y,c=\"black\" , label = \"Training MSE\")\n",
        "plt.plot(X,Y_test, c=\"red\", label=\"Test MSE\")\n",
        "plt.legend()\n",
        "plt.show()"
      ],
      "execution_count": 148,
      "outputs": [
        {
          "output_type": "display_data",
          "data": {
            "image/png": "[encoded data removed]",
            "text/plain": [
              "<Figure size 432x288 with 1 Axes>"
            ]
          },
          "metadata": {
            "needs_background": "light"
          }
        }
      ]
    }
  ]
}
