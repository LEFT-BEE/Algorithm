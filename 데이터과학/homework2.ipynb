{
  "nbformat": 4,
  "nbformat_minor": 0,
  "metadata": {
    "colab": {
      "name": "Untitled0.ipynb",
      "provenance": [],
      "authorship_tag": "ABX9TyMk7Kx7S/q/cXv3VU8dcMhD",
      "include_colab_link": true
    },
    "kernelspec": {
      "name": "python3",
      "display_name": "Python 3"
    },
    "language_info": {
      "name": "python"
    }
  },
  "cells": [
    {
      "cell_type": "markdown",
      "metadata": {
        "id": "view-in-github",
        "colab_type": "text"
      },
      "source": [
        "<a href=\"https://colab.research.google.com/github/LEFT-BEE/KMU-Algorithm/blob/master/%EB%8D%B0%EC%9D%B4%ED%84%B0%EA%B3%BC%ED%95%99/homework2.ipynb\" target=\"_parent\"><img src=\"https://colab.research.google.com/assets/colab-badge.svg\" alt=\"Open In Colab\"/></a>"
      ]
    },
    {
      "cell_type": "markdown",
      "metadata": {
        "id": "48JzD-w4NLfO"
      },
      "source": [
        "## Pytorch로 Logistic Regression 구현"
      ]
    },
    {
      "cell_type": "code",
      "metadata": {
        "id": "oA_xo0DE-hIJ"
      },
      "source": [
        "import torch \n",
        "\n",
        "x_train = torch.FloatTensor([[1],[2],[3],[4],[5],[2.5],[3.5],[0],[3.1],[2.7],[2.8],[2.9]])\n",
        "y_train = torch.FloatTensor([[1],[1],[1],[0],[0],[0],[0],[1],[0],[1],[1],[1]])"
      ],
      "execution_count": 171,
      "outputs": []
    },
    {
      "cell_type": "code",
      "metadata": {
        "id": "9wM6Q2DAApOl"
      },
      "source": [
        "W = torch.zeros(1,1)\n",
        "b = torch.zeros(1,1)\n",
        "\n",
        "lr = 1.0"
      ],
      "execution_count": 172,
      "outputs": []
    },
    {
      "cell_type": "code",
      "metadata": {
        "colab": {
          "base_uri": "https://localhost:8080/"
        },
        "id": "wGVk1SddFYRG",
        "outputId": "874b86fc-5fcc-4b29-a293-e87d9996233a"
      },
      "source": [
        "for epoch in range(3001):\n",
        "  W.requires_grad_(True)\n",
        "  b.requires_grad_(True)\n",
        "\n",
        "  hypothesis = torch.sigmoid(torch.mm(x_train , W)+b)\n",
        "  cost = torch.mean(-y_train * torch.log(hypothesis)-(1 - y_train) * torch.log(1 - hypothesis))\n",
        "\n",
        "  cost.backward()\n",
        "  with torch.no_grad() as grd:\n",
        "    W = W - lr*W.grad\n",
        "    b = b - lr*b.grad\n",
        "  if epoch % 100 == 0:\n",
        "    print( 'epoch: {}, cost: {:.6f}, W: {:.6f}, b: {:.6f}'.format(epoch,cost,W.squeeze(),b.item()))"
      ],
      "execution_count": 173,
      "outputs": [
        {
          "output_type": "stream",
          "name": "stdout",
          "text": [
            "epoch: 0, cost: 0.693147, W: -0.154167, b: 0.083333\n",
            "epoch: 100, cost: 0.420221, W: -1.451281, b: 4.406925\n",
            "epoch: 200, cost: 0.398721, W: -1.898433, b: 5.773750\n",
            "epoch: 300, cost: 0.390820, W: -2.174322, b: 6.609553\n",
            "epoch: 400, cost: 0.387009, W: -2.367329, b: 7.191599\n",
            "epoch: 500, cost: 0.384924, W: -2.510626, b: 7.622530\n",
            "epoch: 600, cost: 0.383699, W: -2.620779, b: 7.953164\n",
            "epoch: 700, cost: 0.382944, W: -2.707397, b: 8.212804\n",
            "epoch: 800, cost: 0.382463, W: -2.776597, b: 8.420023\n",
            "epoch: 900, cost: 0.382149, W: -2.832521, b: 8.587363\n",
            "epoch: 1000, cost: 0.381941, W: -2.878112, b: 8.723699\n",
            "epoch: 1100, cost: 0.381801, W: -2.915530, b: 8.835541\n",
            "epoch: 1200, cost: 0.381706, W: -2.946401, b: 8.927779\n",
            "epoch: 1300, cost: 0.381641, W: -2.971979, b: 9.004180\n",
            "epoch: 1400, cost: 0.381596, W: -2.993242, b: 9.067673\n",
            "epoch: 1500, cost: 0.381565, W: -3.010968, b: 9.120598\n",
            "epoch: 1600, cost: 0.381543, W: -3.025776, b: 9.164800\n",
            "epoch: 1700, cost: 0.381528, W: -3.038172, b: 9.201797\n",
            "epoch: 1800, cost: 0.381517, W: -3.048561, b: 9.232802\n",
            "epoch: 1900, cost: 0.381509, W: -3.057279, b: 9.258815\n",
            "epoch: 2000, cost: 0.381504, W: -3.064605, b: 9.280675\n",
            "epoch: 2100, cost: 0.381500, W: -3.070765, b: 9.299053\n",
            "epoch: 2200, cost: 0.381497, W: -3.075948, b: 9.314517\n",
            "epoch: 2300, cost: 0.381495, W: -3.080314, b: 9.327539\n",
            "epoch: 2400, cost: 0.381494, W: -3.083991, b: 9.338510\n",
            "epoch: 2500, cost: 0.381493, W: -3.087090, b: 9.347754\n",
            "epoch: 2600, cost: 0.381493, W: -3.089704, b: 9.355551\n",
            "epoch: 2700, cost: 0.381492, W: -3.091908, b: 9.362126\n",
            "epoch: 2800, cost: 0.381492, W: -3.093769, b: 9.367676\n",
            "epoch: 2900, cost: 0.381491, W: -3.095338, b: 9.372355\n",
            "epoch: 3000, cost: 0.381491, W: -3.096662, b: 9.376306\n"
          ]
        }
      ]
    },
    {
      "cell_type": "markdown",
      "metadata": {
        "id": "O7kzCkR-HoQ4"
      },
      "source": [
        ""
      ]
    },
    {
      "cell_type": "code",
      "metadata": {
        "colab": {
          "base_uri": "https://localhost:8080/"
        },
        "id": "0MPaAh7SFqZ2",
        "outputId": "1d3db0cc-e64b-43ba-d077-0428cf506b8f"
      },
      "source": [
        "x_test = torch.FloatTensor([[4.5] , [1.1]])\n",
        "test_result = torch.sigmoid(torch.mm(x_test , W)+b)\n",
        "print(torch.round(test_result))"
      ],
      "execution_count": 174,
      "outputs": [
        {
          "output_type": "stream",
          "name": "stdout",
          "text": [
            "tensor([[0.],\n",
            "        [1.]])\n"
          ]
        }
      ]
    },
    {
      "cell_type": "markdown",
      "metadata": {
        "id": "QR4O2tg7q-rQ"
      },
      "source": [
        "## Matplot으로 결과 시각화"
      ]
    },
    {
      "cell_type": "code",
      "metadata": {
        "colab": {
          "base_uri": "https://localhost:8080/",
          "height": 279
        },
        "id": "ZlqpkjUjbW9M",
        "outputId": "51145995-9470-4051-cddf-934089defb44"
      },
      "source": [
        "import matplotlib.pyplot as plt\n",
        "W.requires_grad_(False)\n",
        "b.requires_grad_(False)\n",
        "plt.scatter(x_train, y_train)\n",
        "X = torch.linspace(0,5,100).unsqueeze(1)\n",
        "plt.ylabel(\"Probability of 1 (Y)\")\n",
        "plt.xlabel(\"Input (X)\")\n",
        "Y = torch.sigmoid(torch.mm(X,W)+b)\n",
        "plt.plot(X,Y)\n",
        "plt.show()"
      ],
      "execution_count": 155,
      "outputs": [
        {
          "output_type": "display_data",
          "data": {
            "image/png": "[encoded data removed]",
            "text/plain": [
              "<Figure size 432x288 with 1 Axes>"
            ]
          },
          "metadata": {
            "needs_background": "light"
          }
        }
      ]
    },
    {
      "cell_type": "code",
      "metadata": {
        "colab": {
          "base_uri": "https://localhost:8080/",
          "height": 279
        },
        "id": "CxvnnbJXrDmy",
        "outputId": "097c4e22-3e1f-4665-ebe9-b89e4caf08a2"
      },
      "source": [
        "import matplotlib.pyplot as plt\n",
        "W.requires_grad_(False)\n",
        "b.requires_grad_(False)\n",
        "plt.scatter(x_train, y_train,c = \"black\")\n",
        "X = torch.linspace(0,5,100).unsqueeze(1)\n",
        "plt.ylabel(\"Probability of 1 (Y)\")\n",
        "plt.xlabel(\"Input (X)\")\n",
        "Y = torch.sigmoid(torch.mm(X,W)+b)\n",
        "plt.plot(X,Y,c=\"gold\")\n",
        "plt.show()"
      ],
      "execution_count": 156,
      "outputs": [
        {
          "output_type": "display_data",
          "data": {
            "image/png": "[encoded data removed]",
            "text/plain": [
              "<Figure size 432x288 with 1 Axes>"
            ]
          },
          "metadata": {
            "needs_background": "light"
          }
        }
      ]
    },
    {
      "cell_type": "markdown",
      "metadata": {
        "id": "XFP9oH7INH09"
      },
      "source": [
        "## 여러가지 optimzier 사용해보기\n"
      ]
    },
    {
      "cell_type": "code",
      "metadata": {
        "id": "N1zTTTFpM4Sd"
      },
      "source": [
        "sgd = torch.optim.SGD([W,b] , lr = 1.0)\n",
        "adam = torch.optim.Adam([W,b], lr=1.0)\n",
        "adadelta = torch.optim.Adadelta([W,b])\n",
        "adagrad = torch.optim.Adagrad([W,b])\n",
        "rmsprop = torch.optim.RMSprop([W,b])\n"
      ],
      "execution_count": 224,
      "outputs": []
    },
    {
      "cell_type": "code",
      "metadata": {
        "colab": {
          "base_uri": "https://localhost:8080/"
        },
        "id": "lmcD9IYYzxhD",
        "outputId": "2ae6af55-1181-4296-d6c7-dd5ba645a7e2"
      },
      "source": [
        "W = torch.rand(1,1)\n",
        "b = torch.rand(1,1)\n",
        "optimizer = torch.optim.SGD([W,b], lr=1.0)\n",
        "\n",
        "for epoch in range(3001):\n",
        "    W.requires_grad_(True)\n",
        "    b.requires_grad_(True)\n",
        "\n",
        "    hypothesis = torch.sigmoid(torch.mm(x_train , W)+b)\n",
        "    cost = torch.mean(-y_train * torch.log(hypothesis)-(1 - y_train) * torch.log(1 - hypothesis))\n",
        "    optimizer.zero_grad()\n",
        "    cost.backward()\n",
        "    optimizer.step()\n",
        "  \n",
        "    if epoch % 1000 == 0:\n",
        "      print( 'epoch: {}, cost: {:.6f}, W: {:.6f}, b: {:.6f}'.format(epoch,cost,W.squeeze(),b.item()))"
      ],
      "execution_count": 218,
      "outputs": [
        {
          "output_type": "stream",
          "name": "stdout",
          "text": [
            "epoch: 0, cost: 1.455011, W: -0.727319, b: 0.625422\n",
            "epoch: 1000, cost: 0.381931, W: -2.880697, b: 8.731426\n",
            "epoch: 2000, cost: 0.381504, W: -3.065026, b: 9.281929\n",
            "epoch: 3000, cost: 0.381491, W: -3.096739, b: 9.376535\n"
          ]
        }
      ]
    },
    {
      "cell_type": "code",
      "metadata": {
        "colab": {
          "base_uri": "https://localhost:8080/"
        },
        "id": "kewjhlgi0h5X",
        "outputId": "e4655734-9032-478b-c956-ff8ede7c17f2"
      },
      "source": [
        "W = torch.rand(1,1)\n",
        "b = torch.rand(1,1)\n",
        "optimizer = torch.optim.Adam([W,b], lr=1.0)\n",
        "for epoch in range(3001):\n",
        "    W.requires_grad_(True)\n",
        "    b.requires_grad_(True)\n",
        "\n",
        "    hypothesis = torch.sigmoid(torch.mm(x_train , W)+b)\n",
        "    cost = torch.mean(-y_train * torch.log(hypothesis)-(1 - y_train) * torch.log(1 - hypothesis))\n",
        "    optimizer.zero_grad()\n",
        "    cost.backward()\n",
        "    optimizer.step()\n",
        "  \n",
        "    if epoch % 1000 == 0:\n",
        "      print( 'epoch: {}, cost: {:.6f}, W: {:.6f}, b: {:.6f}'.format(epoch,cost,W.squeeze(),b.item()))"
      ],
      "execution_count": 232,
      "outputs": [
        {
          "output_type": "stream",
          "name": "stdout",
          "text": [
            "epoch: 0, cost: 0.831319, W: -0.774079, b: -0.560511\n",
            "epoch: 1000, cost: 0.381491, W: -3.103853, b: 9.397754\n",
            "epoch: 2000, cost: 0.381491, W: -3.103853, b: 9.397754\n",
            "epoch: 3000, cost: 0.381491, W: -3.103853, b: 9.397752\n"
          ]
        }
      ]
    },
    {
      "cell_type": "code",
      "metadata": {
        "colab": {
          "base_uri": "https://localhost:8080/"
        },
        "id": "CWB-5Ss50k9W",
        "outputId": "a60823bb-3912-4fc3-af40-af625105ddcc"
      },
      "source": [
        "W = torch.rand(1,1)\n",
        "b = torch.rand(1,1)\n",
        "optimizer = torch.optim.RMSprop([W,b])\n",
        "\n",
        "\n",
        "for epoch in range(3001):\n",
        "    W.requires_grad_(True)\n",
        "    b.requires_grad_(True)\n",
        "\n",
        "    hypothesis = torch.sigmoid(torch.mm(x_train , W)+b)\n",
        "    cost = torch.mean(-y_train * torch.log(hypothesis)-(1 - y_train) * torch.log(1 - hypothesis))\n",
        "    optimizer.zero_grad()\n",
        "    cost.backward()\n",
        "    optimizer.step()\n",
        "  \n",
        "    if epoch % 1000 == 0:\n",
        "      print( 'epoch: {}, cost: {:.6f}, W: {:.6f}, b: {:.6f}'.format(epoch,cost,W.squeeze(),b.item()))"
      ],
      "execution_count": 234,
      "outputs": [
        {
          "output_type": "stream",
          "name": "stdout",
          "text": [
            "epoch: 0, cost: 0.864706, W: 0.052481, b: 0.887583\n",
            "epoch: 1000, cost: 0.383022, W: -2.702240, b: 8.186323\n",
            "epoch: 2000, cost: 0.381516, W: -3.107091, b: 9.387453\n",
            "epoch: 3000, cost: 0.381516, W: -3.109075, b: 9.393414\n"
          ]
        }
      ]
    },
    {
      "cell_type": "code",
      "metadata": {
        "colab": {
          "base_uri": "https://localhost:8080/",
          "height": 279
        },
        "id": "HGlS4LjrPUt0",
        "outputId": "a629072e-65bf-4c8a-ec6c-7d35a17102e2"
      },
      "source": [
        "import matplotlib.pyplot as plt\n",
        "W.requires_grad_(False)\n",
        "b.requires_grad_(False)\n",
        "plt.scatter(x_train, y_train)\n",
        "plt.ylabel(\"Probability of 1 (Y)\")\n",
        "plt.xlabel(\"Input (X)\")\n",
        "X = torch.linspace(0,5,100).unsqueeze(1)\n",
        "Y = torch.sigmoid(torch.mm(X,W)+b)\n",
        "plt.plot(X,Y)\n",
        "plt.show()"
      ],
      "execution_count": 233,
      "outputs": [
        {
          "output_type": "display_data",
          "data": {
            "image/png": "[encoded data removed]",
            "text/plain": [
              "<Figure size 432x288 with 1 Axes>"
            ]
          },
          "metadata": {
            "needs_background": "light"
          }
        }
      ]
    },
    {
      "cell_type": "markdown",
      "metadata": {
        "id": "jHrmXYZNrZgc"
      },
      "source": [
        "## Logistic Regression with sklearn"
      ]
    },
    {
      "cell_type": "code",
      "metadata": {
        "colab": {
          "base_uri": "https://localhost:8080/"
        },
        "id": "B0wlBOlUfD8j",
        "outputId": "3a3e4979-973c-4b96-dd9c-9d4082cb8173"
      },
      "source": [
        "import numpy as np\n",
        "from sklearn.linear_model import LogisticRegression\n",
        "x_train = [[1],[2],[3],[4],[5],[2.5],[3.5],[0],[3.1],[2.7],[2.8],[2.9]]\n",
        "y_train = [1,1,1,0,0,0,0,1,0,1,1,1] \n",
        "model = LogisticRegression(penalty='none') \n",
        "model.fit(x_train, y_train)\n",
        "\n",
        "print(model.coef_, model.intercept_)\n",
        "\n",
        "x_test = [[i] for i in np.linspace(0,5,100)]\n",
        "test_result = model.predict(x_test)\n",
        "print(test_result)\n"
      ],
      "execution_count": 161,
      "outputs": [
        {
          "output_type": "stream",
          "name": "stdout",
          "text": [
            "[[-3.10385806]] [9.39776831]\n",
            "[1 1 1 1 1 1 1 1 1 1 1 1 1 1 1 1 1 1 1 1 1 1 1 1 1 1 1 1 1 1 1 1 1 1 1 1 1\n",
            " 1 1 1 1 1 1 1 1 1 1 1 1 1 1 1 1 1 1 1 1 1 1 1 0 0 0 0 0 0 0 0 0 0 0 0 0 0\n",
            " 0 0 0 0 0 0 0 0 0 0 0 0 0 0 0 0 0 0 0 0 0 0 0 0 0 0]\n"
          ]
        }
      ]
    },
    {
      "cell_type": "code",
      "metadata": {
        "id": "ENOkYt00nwCt"
      },
      "source": [
        " def sigmoid(x):\n",
        "    return 1 / (1 +np.exp(-x))"
      ],
      "execution_count": 162,
      "outputs": []
    },
    {
      "cell_type": "code",
      "metadata": {
        "colab": {
          "base_uri": "https://localhost:8080/",
          "height": 283
        },
        "id": "7r5jYJZqpDPn",
        "outputId": "c4d5c0bd-a867-42df-d7e9-8b54a719d577"
      },
      "source": [
        "plt.subplot(1, 2, 1) \n",
        "plt.scatter(x_train,y_train)\n",
        "plt.plot(x_test, x_test * model.coef_ + model.intercept_)\n",
        "plt.ylim(-0.1,1.1)\n",
        "\n",
        "plt.subplot(1, 2, 2) \n",
        "plt.scatter(x_train,y_train)\n",
        "plt.plot(x_test, sigmoid(x_test * model.coef_ + model.intercept_))\n",
        "plt.ylim(-0.1,1.1)"
      ],
      "execution_count": 163,
      "outputs": [
        {
          "output_type": "execute_result",
          "data": {
            "text/plain": [
              "(-0.1, 1.1)"
            ]
          },
          "metadata": {},
          "execution_count": 163
        },
        {
          "output_type": "display_data",
          "data": {
            "image/png": "[encoded data removed]",
            "text/plain": [
              "<Figure size 432x288 with 2 Axes>"
            ]
          },
          "metadata": {
            "needs_background": "light"
          }
        }
      ]
    },
    {
      "cell_type": "code",
      "metadata": {
        "id": "X4_FEUqLqxHQ"
      },
      "source": [
        ""
      ],
      "execution_count": null,
      "outputs": []
    }
  ]
}