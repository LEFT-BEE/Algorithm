{
  "nbformat": 4,
  "nbformat_minor": 0,
  "metadata": {
    "colab": {
      "name": "recomendedsystem.ipynb",
      "provenance": [],
      "collapsed_sections": [],
      "authorship_tag": "ABX9TyMzDecY8r5PJA/uo7O0sYhK",
      "include_colab_link": true
    },
    "kernelspec": {
      "name": "python3",
      "display_name": "Python 3"
    },
    "language_info": {
      "name": "python"
    },
    "accelerator": "GPU"
  },
  "cells": [
    {
      "cell_type": "markdown",
      "metadata": {
        "id": "view-in-github",
        "colab_type": "text"
      },
      "source": [
        "<a href=\"https://colab.research.google.com/github/LEFT-BEE/KMU-Algorithm/blob/master/%EB%8D%B0%EC%9D%B4%ED%84%B0%EA%B3%BC%ED%95%99/recomendedsystem.ipynb\" target=\"_parent\"><img src=\"https://colab.research.google.com/assets/colab-badge.svg\" alt=\"Open In Colab\"/></a>"
      ]
    },
    {
      "cell_type": "markdown",
      "source": [
        "# 영화 추천 시스템"
      ],
      "metadata": {
        "id": "7BnU3wAVoYJ1"
      }
    },
    {
      "cell_type": "markdown",
      "source": [
        "## Task 1. 데이터 준비하기"
      ],
      "metadata": {
        "id": "AgVGGsWuoeMA"
      }
    },
    {
      "cell_type": "code",
      "execution_count": null,
      "metadata": {
        "id": "CGvvf_U2bUg2"
      },
      "outputs": [],
      "source": [
        "import requests\n",
        "import pandas as pd\n",
        "import numpy as np\n",
        "import matplotlib.pyplot as plt\n",
        "import zipfile as zipfile\n",
        "import torch\n",
        "import torch.nn.functional as F\n",
        "import math\n",
        "import random"
      ]
    },
    {
      "cell_type": "code",
      "source": [
        "r = requests.get(\"https://files.grouplens.org/datasets/movielens/ml-latest-small.zip\")\n",
        "open(\"movielens.zip\" , \"wb\").write(r.content)\n",
        "zipfile.ZipFile(\"movielens.zip\").extractall()"
      ],
      "metadata": {
        "id": "_7U4bxmqbxj4"
      },
      "execution_count": null,
      "outputs": []
    },
    {
      "cell_type": "code",
      "source": [
        "def str_to_set(x):\n",
        "  genre_set = set()\n",
        "  for item in eval(x):\n",
        "    genre_set.add(item['name'])\n",
        "  return genre_set"
      ],
      "metadata": {
        "id": "uNBKlgVneVAI"
      },
      "execution_count": null,
      "outputs": []
    },
    {
      "cell_type": "code",
      "source": [
        "#Task 1-1\n",
        "rating_data = pd.read_csv(\"./ml-latest-small/ratings.csv\")\n",
        "#데이터를 계속 섞어준다\n",
        "rating_data.movieId = pd.to_numeric(rating_data.movieId)\n",
        "rating_data.rating = pd.to_numeric(rating_data.rating)\n",
        "train_len = int(len(rating_data) * 0.8)\n",
        "train_data  = rating_data[:train_len]\n",
        "test_data = rating_data[train_len:]"
      ],
      "metadata": {
        "id": "g3HeIg09bxfQ"
      },
      "execution_count": null,
      "outputs": []
    },
    {
      "cell_type": "code",
      "source": [
        "#Task 1-2\n",
        "movies = pd.read_csv(\"./ml-latest-small/movies.csv\")\n",
        "movies.genres = movies.genres.apply(lambda x : x.split(\"|\"))\n",
        "movies.genres = movies.genres.apply(set)\n",
        "movies.movieId = pd.to_numeric(movies.movieId)\n",
        "#영화 사전 만들기\n",
        "movie_dic = dict()\n",
        "for ld , title in zip(movies.movieId , movies.title):\n",
        "  movie_dic[ld] = title\n",
        "movies.head()"
      ],
      "metadata": {
        "colab": {
          "base_uri": "https://localhost:8080/",
          "height": 206
        },
        "id": "sAoYXvcjZQvv",
        "outputId": "e3998cb0-71ee-4e50-e90d-42679e2cc7df"
      },
      "execution_count": null,
      "outputs": [
        {
          "output_type": "execute_result",
          "data": {
            "text/html": [
              "\n",
              "  <div id=\"df-f8593642-7d1b-483c-a75e-f89d0327601e\">\n",
              "    <div class=\"colab-df-container\">\n",
              "      <div>\n",
              "<style scoped>\n",
              "    .dataframe tbody tr th:only-of-type {\n",
              "        vertical-align: middle;\n",
              "    }\n",
              "\n",
              "    .dataframe tbody tr th {\n",
              "        vertical-align: top;\n",
              "    }\n",
              "\n",
              "    .dataframe thead th {\n",
              "        text-align: right;\n",
              "    }\n",
              "</style>\n",
              "<table border=\"1\" class=\"dataframe\">\n",
              "  <thead>\n",
              "    <tr style=\"text-align: right;\">\n",
              "      <th></th>\n",
              "      <th>movieId</th>\n",
              "      <th>title</th>\n",
              "      <th>genres</th>\n",
              "    </tr>\n",
              "  </thead>\n",
              "  <tbody>\n",
              "    <tr>\n",
              "      <th>0</th>\n",
              "      <td>1</td>\n",
              "      <td>Toy Story (1995)</td>\n",
              "      <td>{Children, Animation, Comedy, Fantasy, Adventure}</td>\n",
              "    </tr>\n",
              "    <tr>\n",
              "      <th>1</th>\n",
              "      <td>2</td>\n",
              "      <td>Jumanji (1995)</td>\n",
              "      <td>{Fantasy, Adventure, Children}</td>\n",
              "    </tr>\n",
              "    <tr>\n",
              "      <th>2</th>\n",
              "      <td>3</td>\n",
              "      <td>Grumpier Old Men (1995)</td>\n",
              "      <td>{Comedy, Romance}</td>\n",
              "    </tr>\n",
              "    <tr>\n",
              "      <th>3</th>\n",
              "      <td>4</td>\n",
              "      <td>Waiting to Exhale (1995)</td>\n",
              "      <td>{Comedy, Romance, Drama}</td>\n",
              "    </tr>\n",
              "    <tr>\n",
              "      <th>4</th>\n",
              "      <td>5</td>\n",
              "      <td>Father of the Bride Part II (1995)</td>\n",
              "      <td>{Comedy}</td>\n",
              "    </tr>\n",
              "  </tbody>\n",
              "</table>\n",
              "</div>\n",
              "      <button class=\"colab-df-convert\" onclick=\"convertToInteractive('df-f8593642-7d1b-483c-a75e-f89d0327601e')\"\n",
              "              title=\"Convert this dataframe to an interactive table.\"\n",
              "              style=\"display:none;\">\n",
              "        \n",
              "  <svg xmlns=\"http://www.w3.org/2000/svg\" height=\"24px\"viewBox=\"0 0 24 24\"\n",
              "       width=\"24px\">\n",
              "    <path d=\"M0 0h24v24H0V0z\" fill=\"none\"/>\n",
              "    <path d=\"M18.56 5.44l.94 2.06.94-2.06 2.06-.94-2.06-.94-.94-2.06-.94 2.06-2.06.94zm-11 1L8.5 8.5l.94-2.06 2.06-.94-2.06-.94L8.5 2.5l-.94 2.06-2.06.94zm10 10l.94 2.06.94-2.06 2.06-.94-2.06-.94-.94-2.06-.94 2.06-2.06.94z\"/><path d=\"M17.41 7.96l-1.37-1.37c-.4-.4-.92-.59-1.43-.59-.52 0-1.04.2-1.43.59L10.3 9.45l-7.72 7.72c-.78.78-.78 2.05 0 2.83L4 21.41c.39.39.9.59 1.41.59.51 0 1.02-.2 1.41-.59l7.78-7.78 2.81-2.81c.8-.78.8-2.07 0-2.86zM5.41 20L4 18.59l7.72-7.72 1.47 1.35L5.41 20z\"/>\n",
              "  </svg>\n",
              "      </button>\n",
              "      \n",
              "  <style>\n",
              "    .colab-df-container {\n",
              "      display:flex;\n",
              "      flex-wrap:wrap;\n",
              "      gap: 12px;\n",
              "    }\n",
              "\n",
              "    .colab-df-convert {\n",
              "      background-color: #E8F0FE;\n",
              "      border: none;\n",
              "      border-radius: 50%;\n",
              "      cursor: pointer;\n",
              "      display: none;\n",
              "      fill: #1967D2;\n",
              "      height: 32px;\n",
              "      padding: 0 0 0 0;\n",
              "      width: 32px;\n",
              "    }\n",
              "\n",
              "    .colab-df-convert:hover {\n",
              "      background-color: #E2EBFA;\n",
              "      box-shadow: 0px 1px 2px rgba(60, 64, 67, 0.3), 0px 1px 3px 1px rgba(60, 64, 67, 0.15);\n",
              "      fill: #174EA6;\n",
              "    }\n",
              "\n",
              "    [theme=dark] .colab-df-convert {\n",
              "      background-color: #3B4455;\n",
              "      fill: #D2E3FC;\n",
              "    }\n",
              "\n",
              "    [theme=dark] .colab-df-convert:hover {\n",
              "      background-color: #434B5C;\n",
              "      box-shadow: 0px 1px 3px 1px rgba(0, 0, 0, 0.15);\n",
              "      filter: drop-shadow(0px 1px 2px rgba(0, 0, 0, 0.3));\n",
              "      fill: #FFFFFF;\n",
              "    }\n",
              "  </style>\n",
              "\n",
              "      <script>\n",
              "        const buttonEl =\n",
              "          document.querySelector('#df-f8593642-7d1b-483c-a75e-f89d0327601e button.colab-df-convert');\n",
              "        buttonEl.style.display =\n",
              "          google.colab.kernel.accessAllowed ? 'block' : 'none';\n",
              "\n",
              "        async function convertToInteractive(key) {\n",
              "          const element = document.querySelector('#df-f8593642-7d1b-483c-a75e-f89d0327601e');\n",
              "          const dataTable =\n",
              "            await google.colab.kernel.invokeFunction('convertToInteractive',\n",
              "                                                     [key], {});\n",
              "          if (!dataTable) return;\n",
              "\n",
              "          const docLinkHtml = 'Like what you see? Visit the ' +\n",
              "            '<a target=\"_blank\" href=https://colab.research.google.com/notebooks/data_table.ipynb>data table notebook</a>'\n",
              "            + ' to learn more about interactive tables.';\n",
              "          element.innerHTML = '';\n",
              "          dataTable['output_type'] = 'display_data';\n",
              "          await google.colab.output.renderOutput(dataTable, element);\n",
              "          const docLink = document.createElement('div');\n",
              "          docLink.innerHTML = docLinkHtml;\n",
              "          element.appendChild(docLink);\n",
              "        }\n",
              "      </script>\n",
              "    </div>\n",
              "  </div>\n",
              "  "
            ],
            "text/plain": [
              "   movieId  ...                                             genres\n",
              "0        1  ...  {Children, Animation, Comedy, Fantasy, Adventure}\n",
              "1        2  ...                     {Fantasy, Adventure, Children}\n",
              "2        3  ...                                  {Comedy, Romance}\n",
              "3        4  ...                           {Comedy, Romance, Drama}\n",
              "4        5  ...                                           {Comedy}\n",
              "\n",
              "[5 rows x 3 columns]"
            ]
          },
          "metadata": {},
          "execution_count": 5
        }
      ]
    },
    {
      "cell_type": "code",
      "source": [
        "#Task 1-3\n",
        "tags = pd.read_csv(\"./ml-latest-small/tags.csv\")\n",
        "tags.movieId = pd.to_numeric(tags.movieId)\n",
        "mov = sorted(list(set(tags.movieId)))\n",
        "data = []\n",
        "for ld in mov:\n",
        "  data.append(set(map(lambda x : x.lower(), tags[tags['movieId'] == ld].tag)))\n",
        "\n",
        "movie_tag = pd.DataFrame(list(zip(mov , data)) ,  columns=['movieId' , 'tag'])\n",
        "movie_tag.head()"
      ],
      "metadata": {
        "colab": {
          "base_uri": "https://localhost:8080/",
          "height": 206
        },
        "id": "zWQxavqoafwO",
        "outputId": "6b3c0f20-bc06-4587-a349-279168b52641"
      },
      "execution_count": null,
      "outputs": [
        {
          "output_type": "execute_result",
          "data": {
            "text/html": [
              "\n",
              "  <div id=\"df-932ba569-9271-4b07-b26c-75e9a6e35ad1\">\n",
              "    <div class=\"colab-df-container\">\n",
              "      <div>\n",
              "<style scoped>\n",
              "    .dataframe tbody tr th:only-of-type {\n",
              "        vertical-align: middle;\n",
              "    }\n",
              "\n",
              "    .dataframe tbody tr th {\n",
              "        vertical-align: top;\n",
              "    }\n",
              "\n",
              "    .dataframe thead th {\n",
              "        text-align: right;\n",
              "    }\n",
              "</style>\n",
              "<table border=\"1\" class=\"dataframe\">\n",
              "  <thead>\n",
              "    <tr style=\"text-align: right;\">\n",
              "      <th></th>\n",
              "      <th>movieId</th>\n",
              "      <th>tag</th>\n",
              "    </tr>\n",
              "  </thead>\n",
              "  <tbody>\n",
              "    <tr>\n",
              "      <th>0</th>\n",
              "      <td>1</td>\n",
              "      <td>{fun, pixar}</td>\n",
              "    </tr>\n",
              "    <tr>\n",
              "      <th>1</th>\n",
              "      <td>2</td>\n",
              "      <td>{fantasy, magic board game, game, robin williams}</td>\n",
              "    </tr>\n",
              "    <tr>\n",
              "      <th>2</th>\n",
              "      <td>3</td>\n",
              "      <td>{old, moldy}</td>\n",
              "    </tr>\n",
              "    <tr>\n",
              "      <th>3</th>\n",
              "      <td>5</td>\n",
              "      <td>{remake, pregnancy}</td>\n",
              "    </tr>\n",
              "    <tr>\n",
              "      <th>4</th>\n",
              "      <td>7</td>\n",
              "      <td>{remake}</td>\n",
              "    </tr>\n",
              "  </tbody>\n",
              "</table>\n",
              "</div>\n",
              "      <button class=\"colab-df-convert\" onclick=\"convertToInteractive('df-932ba569-9271-4b07-b26c-75e9a6e35ad1')\"\n",
              "              title=\"Convert this dataframe to an interactive table.\"\n",
              "              style=\"display:none;\">\n",
              "        \n",
              "  <svg xmlns=\"http://www.w3.org/2000/svg\" height=\"24px\"viewBox=\"0 0 24 24\"\n",
              "       width=\"24px\">\n",
              "    <path d=\"M0 0h24v24H0V0z\" fill=\"none\"/>\n",
              "    <path d=\"M18.56 5.44l.94 2.06.94-2.06 2.06-.94-2.06-.94-.94-2.06-.94 2.06-2.06.94zm-11 1L8.5 8.5l.94-2.06 2.06-.94-2.06-.94L8.5 2.5l-.94 2.06-2.06.94zm10 10l.94 2.06.94-2.06 2.06-.94-2.06-.94-.94-2.06-.94 2.06-2.06.94z\"/><path d=\"M17.41 7.96l-1.37-1.37c-.4-.4-.92-.59-1.43-.59-.52 0-1.04.2-1.43.59L10.3 9.45l-7.72 7.72c-.78.78-.78 2.05 0 2.83L4 21.41c.39.39.9.59 1.41.59.51 0 1.02-.2 1.41-.59l7.78-7.78 2.81-2.81c.8-.78.8-2.07 0-2.86zM5.41 20L4 18.59l7.72-7.72 1.47 1.35L5.41 20z\"/>\n",
              "  </svg>\n",
              "      </button>\n",
              "      \n",
              "  <style>\n",
              "    .colab-df-container {\n",
              "      display:flex;\n",
              "      flex-wrap:wrap;\n",
              "      gap: 12px;\n",
              "    }\n",
              "\n",
              "    .colab-df-convert {\n",
              "      background-color: #E8F0FE;\n",
              "      border: none;\n",
              "      border-radius: 50%;\n",
              "      cursor: pointer;\n",
              "      display: none;\n",
              "      fill: #1967D2;\n",
              "      height: 32px;\n",
              "      padding: 0 0 0 0;\n",
              "      width: 32px;\n",
              "    }\n",
              "\n",
              "    .colab-df-convert:hover {\n",
              "      background-color: #E2EBFA;\n",
              "      box-shadow: 0px 1px 2px rgba(60, 64, 67, 0.3), 0px 1px 3px 1px rgba(60, 64, 67, 0.15);\n",
              "      fill: #174EA6;\n",
              "    }\n",
              "\n",
              "    [theme=dark] .colab-df-convert {\n",
              "      background-color: #3B4455;\n",
              "      fill: #D2E3FC;\n",
              "    }\n",
              "\n",
              "    [theme=dark] .colab-df-convert:hover {\n",
              "      background-color: #434B5C;\n",
              "      box-shadow: 0px 1px 3px 1px rgba(0, 0, 0, 0.15);\n",
              "      filter: drop-shadow(0px 1px 2px rgba(0, 0, 0, 0.3));\n",
              "      fill: #FFFFFF;\n",
              "    }\n",
              "  </style>\n",
              "\n",
              "      <script>\n",
              "        const buttonEl =\n",
              "          document.querySelector('#df-932ba569-9271-4b07-b26c-75e9a6e35ad1 button.colab-df-convert');\n",
              "        buttonEl.style.display =\n",
              "          google.colab.kernel.accessAllowed ? 'block' : 'none';\n",
              "\n",
              "        async function convertToInteractive(key) {\n",
              "          const element = document.querySelector('#df-932ba569-9271-4b07-b26c-75e9a6e35ad1');\n",
              "          const dataTable =\n",
              "            await google.colab.kernel.invokeFunction('convertToInteractive',\n",
              "                                                     [key], {});\n",
              "          if (!dataTable) return;\n",
              "\n",
              "          const docLinkHtml = 'Like what you see? Visit the ' +\n",
              "            '<a target=\"_blank\" href=https://colab.research.google.com/notebooks/data_table.ipynb>data table notebook</a>'\n",
              "            + ' to learn more about interactive tables.';\n",
              "          element.innerHTML = '';\n",
              "          dataTable['output_type'] = 'display_data';\n",
              "          await google.colab.output.renderOutput(dataTable, element);\n",
              "          const docLink = document.createElement('div');\n",
              "          docLink.innerHTML = docLinkHtml;\n",
              "          element.appendChild(docLink);\n",
              "        }\n",
              "      </script>\n",
              "    </div>\n",
              "  </div>\n",
              "  "
            ],
            "text/plain": [
              "   movieId                                                tag\n",
              "0        1                                       {fun, pixar}\n",
              "1        2  {fantasy, magic board game, game, robin williams}\n",
              "2        3                                       {old, moldy}\n",
              "3        5                                {remake, pregnancy}\n",
              "4        7                                           {remake}"
            ]
          },
          "metadata": {},
          "execution_count": 6
        }
      ]
    },
    {
      "cell_type": "markdown",
      "source": [
        "## Task 2. Latent Factor 모델을 이용하여 학습하기"
      ],
      "metadata": {
        "id": "gtBI9X_aoOml"
      }
    },
    {
      "cell_type": "code",
      "source": [
        "#Task 2-1 p,q등 파라미터 초기화후 optimizer등을 이용하여 학습하기\n",
        "test_data = test_data.sample(frac = 1).reset_index(drop =True)\n",
        "train_data = train_data.sample(frac = 1).reset_index(drop=True)\n",
        "\n",
        "items = torch.LongTensor(train_data.movieId)\n",
        "users = torch.LongTensor(train_data.userId)\n",
        "ratings = torch.FloatTensor(train_data.rating)\n",
        "test_items = torch.LongTensor(test_data.movieId)\n",
        "test_users = torch.LongTensor(test_data.userId)\n",
        "test_ratings = torch.FloatTensor(test_data.rating)"
      ],
      "metadata": {
        "id": "JgE7WEMAoUsA"
      },
      "execution_count": null,
      "outputs": []
    },
    {
      "cell_type": "code",
      "source": [
        "LR = 0.01\n",
        "EPOCHS = 700\n",
        "lambda_p = 0.001\n",
        "lambda_q = 0.001\n",
        "lambda_bias = 0.001\n",
        "rank = 10\n",
        "numItems = rating_data.movieId.max() + 1\n",
        "numUsers = rating_data.userId.max() + 1\n",
        "\n",
        "P = torch.randn(numItems, rank, requires_grad=True) \n",
        "Q = torch.randn(numUsers, rank, requires_grad=True)\n",
        "bias_item = torch.zeros(numItems, requires_grad=True)\n",
        "bias_user = torch.zeros(numUsers, requires_grad=True)\n",
        "mean =  (ratings.sum() / len(ratings)).item()"
      ],
      "metadata": {
        "id": "hKgDxoUr5o78"
      },
      "execution_count": null,
      "outputs": []
    },
    {
      "cell_type": "code",
      "source": [
        "X = []\n",
        "Y = []\n",
        "Y_test = []\n",
        "optimizer = torch.optim.Adam([P,Q ,bias_item , bias_user] , lr = LR)\n",
        "\n",
        "for epoch in range(EPOCHS):\n",
        "  predict = torch.sum(P[items] * Q[users] , dim = 1) + bias_item[items] + bias_user[users] + mean\n",
        "  criterion = F.mse_loss(predict , ratings)\n",
        "  cost = criterion + lambda_p * torch.sum(P**2) +lambda_q * torch.sum(Q**2) + lambda_bias * torch.sum(bias_item**2) + lambda_bias * torch.sum(bias_user**2)\n",
        "  train_rmse = torch.sqrt(criterion)\n",
        "\n",
        "  with torch.no_grad():  \n",
        "    X.append(epoch)\n",
        "    Y.append(train_rmse)\n",
        "\n",
        "    predict_test = torch.sum(P[test_items] * Q[test_users], dim=1) + mean + bias_item[test_items] + bias_user[test_users]\n",
        "    test_rmse = torch.sqrt(F.mse_loss(predict_test , test_ratings))\n",
        "    Y_test.append(test_rmse)\n",
        "\n",
        "  optimizer.zero_grad()\n",
        "  cost.backward()\n",
        "  optimizer.step()\n",
        "\n",
        "  if epoch % 100 == 0:\n",
        "    print(\"epoch: {}, train_cost: {:.6f} , train_rmse: {:.6f} , test_rmse: {:.6f} \" .format(epoch, cost.item() ,train_rmse, test_rmse))\n",
        "\n",
        "  #처음에는 learning rate를 크게해주다가 점점 작게해준다.\n",
        "  if epoch% 50 == 0:\n",
        "    LR = (1+ math.cos((epoch*math.pi) / EPOCHS)) * 0.5 * LR"
      ],
      "metadata": {
        "colab": {
          "base_uri": "https://localhost:8080/"
        },
        "id": "oN7arFTq4qZR",
        "outputId": "3aaa7693-a01c-41e0-de34-4cecc5540711"
      },
      "execution_count": null,
      "outputs": [
        {
          "output_type": "stream",
          "name": "stdout",
          "text": [
            "epoch: 0, train_cost: 1952.383179 , train_rmse: 3.285107 , test_rmse: 3.118072 \n",
            "epoch: 100, train_cost: 388.942322 , train_rmse: 1.149836 , test_rmse: 1.183692 \n",
            "epoch: 200, train_cost: 83.943138 , train_rmse: 0.924747 , test_rmse: 1.037649 \n",
            "epoch: 300, train_cost: 19.184103 , train_rmse: 0.899097 , test_rmse: 1.028752 \n",
            "epoch: 400, train_cost: 4.979386 , train_rmse: 0.897438 , test_rmse: 1.027984 \n",
            "epoch: 500, train_cost: 1.811203 , train_rmse: 0.898422 , test_rmse: 1.027830 \n",
            "epoch: 600, train_cost: 1.094866 , train_rmse: 0.899337 , test_rmse: 1.027770 \n"
          ]
        }
      ]
    },
    {
      "cell_type": "code",
      "source": [
        "#Tast 2-2\n",
        "plt.ylabel(\"RMSE\")\n",
        "plt.xlabel(\"Epoch\")\n",
        "plt.plot(X,Y,c=\"black\" , label = \"Training rMSE\")\n",
        "plt.plot(X,Y_test, c=\"red\", label=\"Test RMSE\")\n",
        "plt.legend()\n",
        "plt.show()"
      ],
      "metadata": {
        "colab": {
          "base_uri": "https://localhost:8080/",
          "height": 279
        },
        "id": "6_T-myiKOxBj",
        "outputId": "a77acc9e-1e79-435e-f635-cbc7bde8bc48"
      },
      "execution_count": null,
      "outputs": [
        {
          "output_type": "display_data",
          "data": {
            "image/png": "[encoded data removed]",
            "text/plain": [
              "<Figure size 432x288 with 1 Axes>"
            ]
          },
          "metadata": {
            "needs_background": "light"
          }
        }
      ]
    },
    {
      "cell_type": "markdown",
      "source": [
        "## Task 3. User에게 추천하기\n"
      ],
      "metadata": {
        "id": "SbCKCVstU8o4"
      }
    },
    {
      "cell_type": "code",
      "source": [
        "#Task 3-1 \n",
        "scores =[]\n",
        "for num in set(rating_data.movieId):\n",
        "  score = torch.dot(P[num] , Q[514]) + mean + bias_item[num] + bias_user[514]\n",
        "  scores.append((round(score.item() , 5) , num , movie_dic[num]))\n",
        "high_scores = sorted(scores , reverse= True)[:20]\n",
        "print(\"예상별점 top 20\")\n",
        "listed_movie = pd.DataFrame(high_scores , columns = ['rating' , 'Id' , 'movie'])\n",
        "listed_movie = listed_movie[[\"Id\" , \"movie\"]]\n",
        "listed_movie"
      ],
      "metadata": {
        "colab": {
          "base_uri": "https://localhost:8080/",
          "height": 695
        },
        "id": "z4VhQhjlpDry",
        "outputId": "a2c75c92-a8c1-41df-d828-2774a708b447"
      },
      "execution_count": null,
      "outputs": [
        {
          "output_type": "stream",
          "name": "stdout",
          "text": [
            "예상별점 top 20\n"
          ]
        },
        {
          "output_type": "execute_result",
          "data": {
            "text/html": [
              "\n",
              "  <div id=\"df-5b4bc969-8c50-4624-afc6-faec9dc0969c\">\n",
              "    <div class=\"colab-df-container\">\n",
              "      <div>\n",
              "<style scoped>\n",
              "    .dataframe tbody tr th:only-of-type {\n",
              "        vertical-align: middle;\n",
              "    }\n",
              "\n",
              "    .dataframe tbody tr th {\n",
              "        vertical-align: top;\n",
              "    }\n",
              "\n",
              "    .dataframe thead th {\n",
              "        text-align: right;\n",
              "    }\n",
              "</style>\n",
              "<table border=\"1\" class=\"dataframe\">\n",
              "  <thead>\n",
              "    <tr style=\"text-align: right;\">\n",
              "      <th></th>\n",
              "      <th>Id</th>\n",
              "      <th>movie</th>\n",
              "    </tr>\n",
              "  </thead>\n",
              "  <tbody>\n",
              "    <tr>\n",
              "      <th>0</th>\n",
              "      <td>318</td>\n",
              "      <td>Shawshank Redemption, The (1994)</td>\n",
              "    </tr>\n",
              "    <tr>\n",
              "      <th>1</th>\n",
              "      <td>2959</td>\n",
              "      <td>Fight Club (1999)</td>\n",
              "    </tr>\n",
              "    <tr>\n",
              "      <th>2</th>\n",
              "      <td>858</td>\n",
              "      <td>Godfather, The (1972)</td>\n",
              "    </tr>\n",
              "    <tr>\n",
              "      <th>3</th>\n",
              "      <td>296</td>\n",
              "      <td>Pulp Fiction (1994)</td>\n",
              "    </tr>\n",
              "    <tr>\n",
              "      <th>4</th>\n",
              "      <td>527</td>\n",
              "      <td>Schindler's List (1993)</td>\n",
              "    </tr>\n",
              "    <tr>\n",
              "      <th>5</th>\n",
              "      <td>356</td>\n",
              "      <td>Forrest Gump (1994)</td>\n",
              "    </tr>\n",
              "    <tr>\n",
              "      <th>6</th>\n",
              "      <td>50</td>\n",
              "      <td>Usual Suspects, The (1995)</td>\n",
              "    </tr>\n",
              "    <tr>\n",
              "      <th>7</th>\n",
              "      <td>260</td>\n",
              "      <td>Star Wars: Episode IV - A New Hope (1977)</td>\n",
              "    </tr>\n",
              "    <tr>\n",
              "      <th>8</th>\n",
              "      <td>1196</td>\n",
              "      <td>Star Wars: Episode V - The Empire Strikes Back...</td>\n",
              "    </tr>\n",
              "    <tr>\n",
              "      <th>9</th>\n",
              "      <td>1198</td>\n",
              "      <td>Raiders of the Lost Ark (Indiana Jones and the...</td>\n",
              "    </tr>\n",
              "    <tr>\n",
              "      <th>10</th>\n",
              "      <td>593</td>\n",
              "      <td>Silence of the Lambs, The (1991)</td>\n",
              "    </tr>\n",
              "    <tr>\n",
              "      <th>11</th>\n",
              "      <td>2571</td>\n",
              "      <td>Matrix, The (1999)</td>\n",
              "    </tr>\n",
              "    <tr>\n",
              "      <th>12</th>\n",
              "      <td>608</td>\n",
              "      <td>Fargo (1996)</td>\n",
              "    </tr>\n",
              "    <tr>\n",
              "      <th>13</th>\n",
              "      <td>58559</td>\n",
              "      <td>Dark Knight, The (2008)</td>\n",
              "    </tr>\n",
              "    <tr>\n",
              "      <th>14</th>\n",
              "      <td>1197</td>\n",
              "      <td>Princess Bride, The (1987)</td>\n",
              "    </tr>\n",
              "    <tr>\n",
              "      <th>15</th>\n",
              "      <td>1193</td>\n",
              "      <td>One Flew Over the Cuckoo's Nest (1975)</td>\n",
              "    </tr>\n",
              "    <tr>\n",
              "      <th>16</th>\n",
              "      <td>1221</td>\n",
              "      <td>Godfather: Part II, The (1974)</td>\n",
              "    </tr>\n",
              "    <tr>\n",
              "      <th>17</th>\n",
              "      <td>1213</td>\n",
              "      <td>Goodfellas (1990)</td>\n",
              "    </tr>\n",
              "    <tr>\n",
              "      <th>18</th>\n",
              "      <td>1210</td>\n",
              "      <td>Star Wars: Episode VI - Return of the Jedi (1983)</td>\n",
              "    </tr>\n",
              "    <tr>\n",
              "      <th>19</th>\n",
              "      <td>2329</td>\n",
              "      <td>American History X (1998)</td>\n",
              "    </tr>\n",
              "  </tbody>\n",
              "</table>\n",
              "</div>\n",
              "      <button class=\"colab-df-convert\" onclick=\"convertToInteractive('df-5b4bc969-8c50-4624-afc6-faec9dc0969c')\"\n",
              "              title=\"Convert this dataframe to an interactive table.\"\n",
              "              style=\"display:none;\">\n",
              "        \n",
              "  <svg xmlns=\"http://www.w3.org/2000/svg\" height=\"24px\"viewBox=\"0 0 24 24\"\n",
              "       width=\"24px\">\n",
              "    <path d=\"M0 0h24v24H0V0z\" fill=\"none\"/>\n",
              "    <path d=\"M18.56 5.44l.94 2.06.94-2.06 2.06-.94-2.06-.94-.94-2.06-.94 2.06-2.06.94zm-11 1L8.5 8.5l.94-2.06 2.06-.94-2.06-.94L8.5 2.5l-.94 2.06-2.06.94zm10 10l.94 2.06.94-2.06 2.06-.94-2.06-.94-.94-2.06-.94 2.06-2.06.94z\"/><path d=\"M17.41 7.96l-1.37-1.37c-.4-.4-.92-.59-1.43-.59-.52 0-1.04.2-1.43.59L10.3 9.45l-7.72 7.72c-.78.78-.78 2.05 0 2.83L4 21.41c.39.39.9.59 1.41.59.51 0 1.02-.2 1.41-.59l7.78-7.78 2.81-2.81c.8-.78.8-2.07 0-2.86zM5.41 20L4 18.59l7.72-7.72 1.47 1.35L5.41 20z\"/>\n",
              "  </svg>\n",
              "      </button>\n",
              "      \n",
              "  <style>\n",
              "    .colab-df-container {\n",
              "      display:flex;\n",
              "      flex-wrap:wrap;\n",
              "      gap: 12px;\n",
              "    }\n",
              "\n",
              "    .colab-df-convert {\n",
              "      background-color: #E8F0FE;\n",
              "      border: none;\n",
              "      border-radius: 50%;\n",
              "      cursor: pointer;\n",
              "      display: none;\n",
              "      fill: #1967D2;\n",
              "      height: 32px;\n",
              "      padding: 0 0 0 0;\n",
              "      width: 32px;\n",
              "    }\n",
              "\n",
              "    .colab-df-convert:hover {\n",
              "      background-color: #E2EBFA;\n",
              "      box-shadow: 0px 1px 2px rgba(60, 64, 67, 0.3), 0px 1px 3px 1px rgba(60, 64, 67, 0.15);\n",
              "      fill: #174EA6;\n",
              "    }\n",
              "\n",
              "    [theme=dark] .colab-df-convert {\n",
              "      background-color: #3B4455;\n",
              "      fill: #D2E3FC;\n",
              "    }\n",
              "\n",
              "    [theme=dark] .colab-df-convert:hover {\n",
              "      background-color: #434B5C;\n",
              "      box-shadow: 0px 1px 3px 1px rgba(0, 0, 0, 0.15);\n",
              "      filter: drop-shadow(0px 1px 2px rgba(0, 0, 0, 0.3));\n",
              "      fill: #FFFFFF;\n",
              "    }\n",
              "  </style>\n",
              "\n",
              "      <script>\n",
              "        const buttonEl =\n",
              "          document.querySelector('#df-5b4bc969-8c50-4624-afc6-faec9dc0969c button.colab-df-convert');\n",
              "        buttonEl.style.display =\n",
              "          google.colab.kernel.accessAllowed ? 'block' : 'none';\n",
              "\n",
              "        async function convertToInteractive(key) {\n",
              "          const element = document.querySelector('#df-5b4bc969-8c50-4624-afc6-faec9dc0969c');\n",
              "          const dataTable =\n",
              "            await google.colab.kernel.invokeFunction('convertToInteractive',\n",
              "                                                     [key], {});\n",
              "          if (!dataTable) return;\n",
              "\n",
              "          const docLinkHtml = 'Like what you see? Visit the ' +\n",
              "            '<a target=\"_blank\" href=https://colab.research.google.com/notebooks/data_table.ipynb>data table notebook</a>'\n",
              "            + ' to learn more about interactive tables.';\n",
              "          element.innerHTML = '';\n",
              "          dataTable['output_type'] = 'display_data';\n",
              "          await google.colab.output.renderOutput(dataTable, element);\n",
              "          const docLink = document.createElement('div');\n",
              "          docLink.innerHTML = docLinkHtml;\n",
              "          element.appendChild(docLink);\n",
              "        }\n",
              "      </script>\n",
              "    </div>\n",
              "  </div>\n",
              "  "
            ],
            "text/plain": [
              "       Id                                              movie\n",
              "0     318                   Shawshank Redemption, The (1994)\n",
              "1    2959                                  Fight Club (1999)\n",
              "2     858                              Godfather, The (1972)\n",
              "3     296                                Pulp Fiction (1994)\n",
              "4     527                            Schindler's List (1993)\n",
              "5     356                                Forrest Gump (1994)\n",
              "6      50                         Usual Suspects, The (1995)\n",
              "7     260          Star Wars: Episode IV - A New Hope (1977)\n",
              "8    1196  Star Wars: Episode V - The Empire Strikes Back...\n",
              "9    1198  Raiders of the Lost Ark (Indiana Jones and the...\n",
              "10    593                   Silence of the Lambs, The (1991)\n",
              "11   2571                                 Matrix, The (1999)\n",
              "12    608                                       Fargo (1996)\n",
              "13  58559                            Dark Knight, The (2008)\n",
              "14   1197                         Princess Bride, The (1987)\n",
              "15   1193             One Flew Over the Cuckoo's Nest (1975)\n",
              "16   1221                     Godfather: Part II, The (1974)\n",
              "17   1213                                  Goodfellas (1990)\n",
              "18   1210  Star Wars: Episode VI - Return of the Jedi (1983)\n",
              "19   2329                          American History X (1998)"
            ]
          },
          "metadata": {},
          "execution_count": 68
        }
      ]
    },
    {
      "cell_type": "code",
      "source": [
        "#Task 3-2\n",
        "high_ratings = rating_data[rating_data.rating == 5]\n",
        "high_ratings = high_ratings[high_ratings.userId == 514]\n",
        "\n",
        "meta  = pd.merge(movies , movie_tag , on = \"movieId\" , how = \"inner\")"
      ],
      "metadata": {
        "id": "7659ZoTTxCoo"
      },
      "execution_count": null,
      "outputs": []
    },
    {
      "cell_type": "code",
      "source": [
        "def jaccard_distance(set1 , set2):\n",
        "  if len(set1 | set2) ==0: return 0\n",
        "  return len(set1&set2) / len(set1 | set2)\n",
        "\n",
        "def find_similar_movies(input_title , meta):\n",
        "  if input_title not in meta.movieId:\n",
        "    input_set = movies[movies.movieId == input_title].genres.item()\n",
        "  else:\n",
        "    input_meta = meta[meta.movieId == input_title]\n",
        "    input_set = input_meta.genres.item() | input_meta.tag.item()\n",
        "\n",
        "  result = []\n",
        "  for this_title in meta.movieId:\n",
        "    if this_title == input_title:\n",
        "      continue\n",
        "    if this_title not in meta.movieId:\n",
        "      this_set = movies[movies.movieId == this_title].genres.item()\n",
        "    else:\n",
        "      this_meta = meta[meta.movieId == this_title]\n",
        "      this_set = this_meta.genres.item() | this_meta.tag.item()\n",
        "\n",
        "    jaccard = jaccard_distance(this_set , input_set)\n",
        "    result.append((this_title , round(jaccard,3)))\n",
        "  result.sort(key = lambda r : r[1] , reverse = True)\n",
        "  return result[:5]\n",
        "  \n",
        "similar_movie = []  \n",
        "for index in high_ratings.movieId:\n",
        "  similar_movie.append((index , movie_dic[index] , find_similar_movies(index , meta)))"
      ],
      "metadata": {
        "id": "uzuSZnafzVsS"
      },
      "execution_count": null,
      "outputs": []
    },
    {
      "cell_type": "code",
      "source": [
        "#listed_movie = pd.DataFrame(high_scores , columns = ['rating' , 'Id' , 'movie'])\n",
        "pd.DataFrame(similar_movie , columns = ['Id' , 'movie' , 'similar_movie'])\n",
        "for id , movie , sim in similar_movie:\n",
        "  print(f\"{movie} 와 비슷한 영화들은 \")\n",
        "  for i , r in sim:\n",
        "    print(f\"{i} - {movie_dic[i]} | score : {r}\")\n",
        "  print()"
      ],
      "metadata": {
        "colab": {
          "base_uri": "https://localhost:8080/"
        },
        "id": "ZRjPBQOX-h7B",
        "outputId": "712ffa33-57fd-467f-8f03-533eb6449136"
      },
      "execution_count": null,
      "outputs": [
        {
          "output_type": "stream",
          "name": "stdout",
          "text": [
            "Star Wars: Episode IV - A New Hope (1977) 와 비슷한 영화들은 \n",
            "1210 - Star Wars: Episode VI - Return of the Jedi (1983) | score : 0.286\n",
            "1196 - Star Wars: Episode V - The Empire Strikes Back (1980) | score : 0.259\n",
            "1200 - Aliens (1986) | score : 0.222\n",
            "1240 - Terminator, The (1984) | score : 0.148\n",
            "2628 - Star Wars: Episode I - The Phantom Menace (1999) | score : 0.143\n",
            "\n",
            "Silence of the Lambs, The (1991) 와 비슷한 영화들은 \n",
            "6323 - Identity (2003) | score : 0.3\n",
            "4210 - Manhunter (1986) | score : 0.273\n",
            "628 - Primal Fear (1996) | score : 0.267\n",
            "22 - Copycat (1995) | score : 0.25\n",
            "1994 - Poltergeist (1982) | score : 0.222\n",
            "\n",
            "Star Wars: Episode V - The Empire Strikes Back (1980) 와 비슷한 영화들은 \n",
            "1210 - Star Wars: Episode VI - Return of the Jedi (1983) | score : 0.267\n",
            "260 - Star Wars: Episode IV - A New Hope (1977) | score : 0.259\n",
            "1200 - Aliens (1986) | score : 0.25\n",
            "2628 - Star Wars: Episode I - The Phantom Menace (1999) | score : 0.231\n",
            "2640 - Superman (1978) | score : 0.231\n",
            "\n",
            "Princess Bride, The (1987) 와 비슷한 영화들은 \n",
            "6539 - Pirates of the Caribbean: The Curse of the Black Pearl (2003) | score : 0.571\n",
            "59103 - Forbidden Kingdom, The (2008) | score : 0.571\n",
            "552 - Three Musketeers, The (1993) | score : 0.5\n",
            "6564 - Lara Croft Tomb Raider: The Cradle of Life (2003) | score : 0.5\n",
            "26776 - Porco Rosso (Crimson Pig) (Kurenai no buta) (1992) | score : 0.5\n",
            "\n",
            "Raiders of the Lost Ark (Indiana Jones and the Raiders of the Lost Ark) (1981) 와 비슷한 영화들은 \n",
            "1291 - Indiana Jones and the Last Crusade (1989) | score : 0.333\n",
            "3030 - Yojimbo (1961) | score : 0.25\n",
            "1610 - Hunt for Red October, The (1990) | score : 0.222\n",
            "1801 - Man in the Iron Mask, The (1998) | score : 0.222\n",
            "2019 - Seven Samurai (Shichinin no samurai) (1954) | score : 0.222\n",
            "\n",
            "Aliens (1986) 와 비슷한 영화들은 \n",
            "780 - Independence Day (a.k.a. ID4) (1996) | score : 0.308\n",
            "1196 - Star Wars: Episode V - The Empire Strikes Back (1980) | score : 0.25\n",
            "1214 - Alien (1979) | score : 0.25\n",
            "2628 - Star Wars: Episode I - The Phantom Menace (1999) | score : 0.25\n",
            "2640 - Superman (1978) | score : 0.25\n",
            "\n",
            "Back to the Future (1985) 와 비슷한 영화들은 \n",
            "2011 - Back to the Future Part II (1989) | score : 0.75\n",
            "3175 - Galaxy Quest (1999) | score : 0.75\n",
            "4571 - Bill & Ted's Excellent Adventure (1989) | score : 0.75\n",
            "316 - Stargate (1994) | score : 0.6\n",
            "1376 - Star Trek IV: The Voyage Home (1986) | score : 0.6\n",
            "\n",
            "Field of Dreams (1989) 와 비슷한 영화들은 \n",
            "5971 - My Neighbor Totoro (Tonari no Totoro) (1988) | score : 0.6\n",
            "953 - It's a Wonderful Life (1946) | score : 0.5\n",
            "2097 - Something Wicked This Way Comes (1983) | score : 0.5\n",
            "2138 - Watership Down (1978) | score : 0.5\n",
            "5601 - Yearling, The (1946) | score : 0.5\n",
            "\n",
            "Jaws (1975) 와 비슷한 영화들은 \n",
            "1389 - Jaws 3-D (1983) | score : 1.0\n",
            "2167 - Blade (1998) | score : 0.5\n",
            "5254 - Blade II (2002) | score : 0.5\n",
            "6502 - 28 Days Later (2002) | score : 0.5\n",
            "34323 - Devil's Rejects, The (2005) | score : 0.5\n",
            "\n",
            "Miracle on 34th Street (1947) 와 비슷한 영화들은 \n",
            "1810 - Primary Colors (1998) | score : 1.0\n",
            "1836 - Last Days of Disco, The (1998) | score : 1.0\n",
            "1900 - Children of Heaven, The (Bacheha-Ye Aseman) (1997) | score : 1.0\n",
            "2431 - Patch Adams (1998) | score : 1.0\n",
            "2583 - Cookie's Fortune (1999) | score : 1.0\n",
            "\n",
            "Close Encounters of the Third Kind (1977) 와 비슷한 영화들은 \n",
            "4370 - A.I. Artificial Intelligence (2001) | score : 1.0\n",
            "134130 - The Martian (2015) | score : 1.0\n",
            "329 - Star Trek: Generations (1994) | score : 0.75\n",
            "1726 - Postman, The (1997) | score : 0.75\n",
            "1931 - Mutiny on the Bounty (1935) | score : 0.667\n",
            "\n",
            "WarGames (1983) 와 비슷한 영화들은 \n",
            "1653 - Gattaca (1997) | score : 1.0\n",
            "1921 - Pi (1998) | score : 1.0\n",
            "7254 - The Butterfly Effect (2004) | score : 1.0\n",
            "1253 - Day the Earth Stood Still, The (1951) | score : 0.75\n",
            "4878 - Donnie Darko (2001) | score : 0.75\n",
            "\n",
            "Charlie Brown Christmas, A (1965) 와 비슷한 영화들은 \n",
            "745 - Wallace & Gromit: A Close Shave (1995) | score : 0.75\n",
            "2078 - Jungle Book, The (1967) | score : 0.75\n",
            "2080 - Lady and the Tramp (1955) | score : 0.75\n",
            "2355 - Bug's Life, A (1998) | score : 0.75\n",
            "6377 - Finding Nemo (2003) | score : 0.75\n",
            "\n",
            "How the Grinch Stole Christmas! (1966) 와 비슷한 영화들은 \n",
            "37729 - Corpse Bride (2005) | score : 0.8\n",
            "2700 - South Park: Bigger, Longer and Uncut (1999) | score : 0.75\n",
            "6773 - Triplets of Belleville, The (Les triplettes de Belleville) (2003) | score : 0.75\n",
            "2078 - Jungle Book, The (1967) | score : 0.6\n",
            "8580 - Into the Woods (1991) | score : 0.6\n",
            "\n",
            "Social Network, The (2010) 와 비슷한 영화들은 \n",
            "1635 - Ice Storm, The (1997) | score : 1.0\n",
            "1650 - Washington Square (1997) | score : 1.0\n",
            "1672 - Rainmaker, The (1997) | score : 1.0\n",
            "1719 - Sweet Hereafter, The (1997) | score : 1.0\n",
            "1893 - Beyond Silence (Jenseits der Stille) (1996) | score : 1.0\n",
            "\n"
          ]
        }
      ]
    },
    {
      "cell_type": "markdown",
      "source": [
        "## Task 4. 영화 클러스터링 하기"
      ],
      "metadata": {
        "id": "sK4KCKSPtYIE"
      }
    },
    {
      "cell_type": "markdown",
      "source": [
        "$||X_1 - X_2||^2_2 = X_1^T X_1 + X^T_2 X_2 - 2X_1^T X_2$\n",
        "\n",
        "$ = 2(1-X_1^T X_2)$   이므로\n",
        "\n",
        "만약 모든 vector를 unitvector로 만들어 준다면 코사인 유사도는 $X^T_1 X_2$ 가 될 것이다 따라서 아래와 같이 $Normalize$를 해준 후 유클리안 거리를 기본으로 제공하는 kmean 모듈을 사용하주면 코사인 유사도를 적용한 결과를 얻는다."
      ],
      "metadata": {
        "id": "jqV9C72Y5PZE"
      }
    },
    {
      "cell_type": "code",
      "source": [
        "from sklearn.cluster import KMeans\n",
        "from sklearn import preprocessing"
      ],
      "metadata": {
        "id": "kAXTIUk17nOu"
      },
      "execution_count": null,
      "outputs": []
    },
    {
      "cell_type": "code",
      "source": [
        "#Task 4-1\n",
        "movie_once_data = rating_data.movieId.drop_duplicates()\n",
        "movie_once_item = torch.LongTensor(movie_once_data) #item 번호\n",
        "movie_once_p = P[movie_once_item] #그에 해당하는 영화벡터 \n",
        "\n",
        "movie_once_user = rating_data.userId.drop_duplicates()\n",
        "movie_once_user = torch.LongTensor(movie_once_user)\n",
        "movie_once_q = Q[movie_once_user]\n",
        "\n",
        "movie_once_p = movie_once_p.detach().numpy()\n",
        "movie_once_q = movie_once_q.detach().numpy()"
      ],
      "metadata": {
        "id": "DbRx0QHW7WHJ"
      },
      "execution_count": null,
      "outputs": []
    },
    {
      "cell_type": "code",
      "source": [
        "#정규화 부분\n",
        "X = (preprocessing.normalize(movie_once_p))"
      ],
      "metadata": {
        "id": "YV05dBxo6qj6"
      },
      "execution_count": null,
      "outputs": []
    },
    {
      "cell_type": "code",
      "source": [
        "all_cost = []\n",
        "k_ = 40\n",
        "for i in range(1, k_):\n",
        "  kmeans = KMeans(n_clusters = i)\n",
        "  kmeans.fit(X)\n",
        "  all_cost.append(kmeans.inertia_)"
      ],
      "metadata": {
        "id": "i94yviKxRe70"
      },
      "execution_count": null,
      "outputs": []
    },
    {
      "cell_type": "code",
      "source": [
        "#Task 4-2\n",
        "num_clusters = list(range(1,k_))\n",
        "plt.plot(num_clusters, all_cost, '-o' , color = 'black')\n",
        "plt.xlabel('Number of Clusters (k)')\n",
        "plt.ylabel('cost')\n",
        "plt.show()"
      ],
      "metadata": {
        "colab": {
          "base_uri": "https://localhost:8080/",
          "height": 279
        },
        "id": "_w5wBbp4WjnA",
        "outputId": "189eb315-5ceb-4ccb-bc72-b33ed3c276bb"
      },
      "execution_count": null,
      "outputs": [
        {
          "output_type": "display_data",
          "data": {
            "image/png": "[encoded data removed]",
            "text/plain": [
              "<Figure size 432x288 with 1 Axes>"
            ]
          },
          "metadata": {
            "needs_background": "light"
          }
        }
      ]
    },
    {
      "cell_type": "code",
      "source": [
        "#Task4-3\n",
        "kmeans = KMeans(n_clusters = 40 ,random_state = 0).fit(X)\n",
        "ceneters , label = kmeans.cluster_centers_ , kmeans.labels_"
      ],
      "metadata": {
        "id": "ue_oJvCAPyDh"
      },
      "execution_count": null,
      "outputs": []
    },
    {
      "cell_type": "code",
      "source": [
        "def cos_sim(a, b): return np.dot(a, b)/(np.linalg.norm(a)*np.linalg.norm(b))\n",
        "\n",
        "movie_index = list(movie_once_item).index(122912)\n",
        "movie_knn = label[movie_index] #어느것으로 분류되었는지\n",
        "\n",
        "cos_distance = []\n",
        "movie_vec = movie_once_p[movie_index]\n",
        "for index , k in enumerate(label):\n",
        "  if k == movie_knn:\n",
        "    movie_index = movie_once_item[index].item()\n",
        "    cos_distance.append((round(cos_sim(movie_vec , movie_once_p[index]) ,3),movie_index , movie_dic[movie_index] ))"
      ],
      "metadata": {
        "id": "sVIaeEysYw_A"
      },
      "execution_count": null,
      "outputs": []
    },
    {
      "cell_type": "code",
      "source": [
        "cos_distance = sorted(cos_distance , reverse= True)[1:21]\n",
        "pd.DataFrame(cos_distance , columns = ['score' , 'Id' , 'movie'])"
      ],
      "metadata": {
        "colab": {
          "base_uri": "https://localhost:8080/",
          "height": 677
        },
        "id": "3o-AJboL8EWv",
        "outputId": "2feccd60-ead1-4f7c-d617-bc76258af418"
      },
      "execution_count": null,
      "outputs": [
        {
          "output_type": "execute_result",
          "data": {
            "text/html": [
              "\n",
              "  <div id=\"df-0a8152c5-e20c-4a01-8891-aaab3060da29\">\n",
              "    <div class=\"colab-df-container\">\n",
              "      <div>\n",
              "<style scoped>\n",
              "    .dataframe tbody tr th:only-of-type {\n",
              "        vertical-align: middle;\n",
              "    }\n",
              "\n",
              "    .dataframe tbody tr th {\n",
              "        vertical-align: top;\n",
              "    }\n",
              "\n",
              "    .dataframe thead th {\n",
              "        text-align: right;\n",
              "    }\n",
              "</style>\n",
              "<table border=\"1\" class=\"dataframe\">\n",
              "  <thead>\n",
              "    <tr style=\"text-align: right;\">\n",
              "      <th></th>\n",
              "      <th>score</th>\n",
              "      <th>Id</th>\n",
              "      <th>movie</th>\n",
              "    </tr>\n",
              "  </thead>\n",
              "  <tbody>\n",
              "    <tr>\n",
              "      <th>0</th>\n",
              "      <td>0.941</td>\n",
              "      <td>2648</td>\n",
              "      <td>Frankenstein (1931)</td>\n",
              "    </tr>\n",
              "    <tr>\n",
              "      <th>1</th>\n",
              "      <td>0.934</td>\n",
              "      <td>105653</td>\n",
              "      <td>Escape Plan (2013)</td>\n",
              "    </tr>\n",
              "    <tr>\n",
              "      <th>2</th>\n",
              "      <td>0.830</td>\n",
              "      <td>4980</td>\n",
              "      <td>Bill &amp; Ted's Bogus Journey (1991)</td>\n",
              "    </tr>\n",
              "    <tr>\n",
              "      <th>3</th>\n",
              "      <td>0.810</td>\n",
              "      <td>107953</td>\n",
              "      <td>Dragon Ball Z: Battle of Gods (2013)</td>\n",
              "    </tr>\n",
              "    <tr>\n",
              "      <th>4</th>\n",
              "      <td>0.802</td>\n",
              "      <td>122922</td>\n",
              "      <td>Doctor Strange (2016)</td>\n",
              "    </tr>\n",
              "    <tr>\n",
              "      <th>5</th>\n",
              "      <td>0.799</td>\n",
              "      <td>55020</td>\n",
              "      <td>Ten, The (2007)</td>\n",
              "    </tr>\n",
              "    <tr>\n",
              "      <th>6</th>\n",
              "      <td>0.798</td>\n",
              "      <td>173145</td>\n",
              "      <td>War for the Planet of the Apes (2017)</td>\n",
              "    </tr>\n",
              "    <tr>\n",
              "      <th>7</th>\n",
              "      <td>0.796</td>\n",
              "      <td>356</td>\n",
              "      <td>Forrest Gump (1994)</td>\n",
              "    </tr>\n",
              "    <tr>\n",
              "      <th>8</th>\n",
              "      <td>0.794</td>\n",
              "      <td>122916</td>\n",
              "      <td>Thor: Ragnarok (2017)</td>\n",
              "    </tr>\n",
              "    <tr>\n",
              "      <th>9</th>\n",
              "      <td>0.793</td>\n",
              "      <td>167746</td>\n",
              "      <td>The Lego Batman Movie (2017)</td>\n",
              "    </tr>\n",
              "    <tr>\n",
              "      <th>10</th>\n",
              "      <td>0.789</td>\n",
              "      <td>16</td>\n",
              "      <td>Casino (1995)</td>\n",
              "    </tr>\n",
              "    <tr>\n",
              "      <th>11</th>\n",
              "      <td>0.779</td>\n",
              "      <td>4444</td>\n",
              "      <td>Way of the Dragon, The (a.k.a. Return of the D...</td>\n",
              "    </tr>\n",
              "    <tr>\n",
              "      <th>12</th>\n",
              "      <td>0.771</td>\n",
              "      <td>3270</td>\n",
              "      <td>Cutting Edge, The (1992)</td>\n",
              "    </tr>\n",
              "    <tr>\n",
              "      <th>13</th>\n",
              "      <td>0.770</td>\n",
              "      <td>1209</td>\n",
              "      <td>Once Upon a Time in the West (C'era una volta ...</td>\n",
              "    </tr>\n",
              "    <tr>\n",
              "      <th>14</th>\n",
              "      <td>0.767</td>\n",
              "      <td>5307</td>\n",
              "      <td>Taking Care of Business (1990)</td>\n",
              "    </tr>\n",
              "    <tr>\n",
              "      <th>15</th>\n",
              "      <td>0.765</td>\n",
              "      <td>4939</td>\n",
              "      <td>Final Countdown, The (1980)</td>\n",
              "    </tr>\n",
              "    <tr>\n",
              "      <th>16</th>\n",
              "      <td>0.763</td>\n",
              "      <td>1863</td>\n",
              "      <td>Major League: Back to the Minors (1998)</td>\n",
              "    </tr>\n",
              "    <tr>\n",
              "      <th>17</th>\n",
              "      <td>0.762</td>\n",
              "      <td>74754</td>\n",
              "      <td>Room, The (2003)</td>\n",
              "    </tr>\n",
              "    <tr>\n",
              "      <th>18</th>\n",
              "      <td>0.760</td>\n",
              "      <td>95508</td>\n",
              "      <td>Cleanskin (2012)</td>\n",
              "    </tr>\n",
              "    <tr>\n",
              "      <th>19</th>\n",
              "      <td>0.760</td>\n",
              "      <td>3438</td>\n",
              "      <td>Teenage Mutant Ninja Turtles (1990)</td>\n",
              "    </tr>\n",
              "  </tbody>\n",
              "</table>\n",
              "</div>\n",
              "      <button class=\"colab-df-convert\" onclick=\"convertToInteractive('df-0a8152c5-e20c-4a01-8891-aaab3060da29')\"\n",
              "              title=\"Convert this dataframe to an interactive table.\"\n",
              "              style=\"display:none;\">\n",
              "        \n",
              "  <svg xmlns=\"http://www.w3.org/2000/svg\" height=\"24px\"viewBox=\"0 0 24 24\"\n",
              "       width=\"24px\">\n",
              "    <path d=\"M0 0h24v24H0V0z\" fill=\"none\"/>\n",
              "    <path d=\"M18.56 5.44l.94 2.06.94-2.06 2.06-.94-2.06-.94-.94-2.06-.94 2.06-2.06.94zm-11 1L8.5 8.5l.94-2.06 2.06-.94-2.06-.94L8.5 2.5l-.94 2.06-2.06.94zm10 10l.94 2.06.94-2.06 2.06-.94-2.06-.94-.94-2.06-.94 2.06-2.06.94z\"/><path d=\"M17.41 7.96l-1.37-1.37c-.4-.4-.92-.59-1.43-.59-.52 0-1.04.2-1.43.59L10.3 9.45l-7.72 7.72c-.78.78-.78 2.05 0 2.83L4 21.41c.39.39.9.59 1.41.59.51 0 1.02-.2 1.41-.59l7.78-7.78 2.81-2.81c.8-.78.8-2.07 0-2.86zM5.41 20L4 18.59l7.72-7.72 1.47 1.35L5.41 20z\"/>\n",
              "  </svg>\n",
              "      </button>\n",
              "      \n",
              "  <style>\n",
              "    .colab-df-container {\n",
              "      display:flex;\n",
              "      flex-wrap:wrap;\n",
              "      gap: 12px;\n",
              "    }\n",
              "\n",
              "    .colab-df-convert {\n",
              "      background-color: #E8F0FE;\n",
              "      border: none;\n",
              "      border-radius: 50%;\n",
              "      cursor: pointer;\n",
              "      display: none;\n",
              "      fill: #1967D2;\n",
              "      height: 32px;\n",
              "      padding: 0 0 0 0;\n",
              "      width: 32px;\n",
              "    }\n",
              "\n",
              "    .colab-df-convert:hover {\n",
              "      background-color: #E2EBFA;\n",
              "      box-shadow: 0px 1px 2px rgba(60, 64, 67, 0.3), 0px 1px 3px 1px rgba(60, 64, 67, 0.15);\n",
              "      fill: #174EA6;\n",
              "    }\n",
              "\n",
              "    [theme=dark] .colab-df-convert {\n",
              "      background-color: #3B4455;\n",
              "      fill: #D2E3FC;\n",
              "    }\n",
              "\n",
              "    [theme=dark] .colab-df-convert:hover {\n",
              "      background-color: #434B5C;\n",
              "      box-shadow: 0px 1px 3px 1px rgba(0, 0, 0, 0.15);\n",
              "      filter: drop-shadow(0px 1px 2px rgba(0, 0, 0, 0.3));\n",
              "      fill: #FFFFFF;\n",
              "    }\n",
              "  </style>\n",
              "\n",
              "      <script>\n",
              "        const buttonEl =\n",
              "          document.querySelector('#df-0a8152c5-e20c-4a01-8891-aaab3060da29 button.colab-df-convert');\n",
              "        buttonEl.style.display =\n",
              "          google.colab.kernel.accessAllowed ? 'block' : 'none';\n",
              "\n",
              "        async function convertToInteractive(key) {\n",
              "          const element = document.querySelector('#df-0a8152c5-e20c-4a01-8891-aaab3060da29');\n",
              "          const dataTable =\n",
              "            await google.colab.kernel.invokeFunction('convertToInteractive',\n",
              "                                                     [key], {});\n",
              "          if (!dataTable) return;\n",
              "\n",
              "          const docLinkHtml = 'Like what you see? Visit the ' +\n",
              "            '<a target=\"_blank\" href=https://colab.research.google.com/notebooks/data_table.ipynb>data table notebook</a>'\n",
              "            + ' to learn more about interactive tables.';\n",
              "          element.innerHTML = '';\n",
              "          dataTable['output_type'] = 'display_data';\n",
              "          await google.colab.output.renderOutput(dataTable, element);\n",
              "          const docLink = document.createElement('div');\n",
              "          docLink.innerHTML = docLinkHtml;\n",
              "          element.appendChild(docLink);\n",
              "        }\n",
              "      </script>\n",
              "    </div>\n",
              "  </div>\n",
              "  "
            ],
            "text/plain": [
              "    score      Id                                              movie\n",
              "0   0.941    2648                                Frankenstein (1931)\n",
              "1   0.934  105653                                 Escape Plan (2013)\n",
              "2   0.830    4980                  Bill & Ted's Bogus Journey (1991)\n",
              "3   0.810  107953               Dragon Ball Z: Battle of Gods (2013)\n",
              "4   0.802  122922                              Doctor Strange (2016)\n",
              "5   0.799   55020                                    Ten, The (2007)\n",
              "6   0.798  173145              War for the Planet of the Apes (2017)\n",
              "7   0.796     356                                Forrest Gump (1994)\n",
              "8   0.794  122916                              Thor: Ragnarok (2017)\n",
              "9   0.793  167746                       The Lego Batman Movie (2017)\n",
              "10  0.789      16                                      Casino (1995)\n",
              "11  0.779    4444  Way of the Dragon, The (a.k.a. Return of the D...\n",
              "12  0.771    3270                           Cutting Edge, The (1992)\n",
              "13  0.770    1209  Once Upon a Time in the West (C'era una volta ...\n",
              "14  0.767    5307                     Taking Care of Business (1990)\n",
              "15  0.765    4939                        Final Countdown, The (1980)\n",
              "16  0.763    1863            Major League: Back to the Minors (1998)\n",
              "17  0.762   74754                                   Room, The (2003)\n",
              "18  0.760   95508                                   Cleanskin (2012)\n",
              "19  0.760    3438                Teenage Mutant Ninja Turtles (1990)"
            ]
          },
          "metadata": {},
          "execution_count": 94
        }
      ]
    },
    {
      "cell_type": "markdown",
      "source": [
        "## Task 5. 차원 축소화"
      ],
      "metadata": {
        "id": "6M6Y5PaCkPBa"
      }
    },
    {
      "cell_type": "code",
      "source": [
        "#Task5.1\n",
        "p = P[movie_once_item] \n",
        "q = Q[movie_once_user]\n",
        "Z = torch.concat((p,q))\n",
        "Z = Z - torch.mean(Z)"
      ],
      "metadata": {
        "id": "IjDiXIzdkMN4"
      },
      "execution_count": null,
      "outputs": []
    },
    {
      "cell_type": "code",
      "source": [
        "#Task5-2\n",
        "U,S,V = torch.pca_lowrank(Z ,2)"
      ],
      "metadata": {
        "id": "KuAOuL86NnA_"
      },
      "execution_count": null,
      "outputs": []
    },
    {
      "cell_type": "code",
      "source": [
        "#Task 5-3-1\n",
        "p_c = [0 for _ in range(9724)]\n",
        "q_c = [1 for _ in range(610)]\n",
        "c = p_c + q_c\n",
        "plt.xlabel(\"PC1\")\n",
        "plt.ylabel(\"PC2\")\n",
        "plt.scatter(U[:,0].detach().numpy() , U[:,1].detach().numpy(), c = c,  s = 5)\n",
        "plt.show()"
      ],
      "metadata": {
        "colab": {
          "base_uri": "https://localhost:8080/",
          "height": 279
        },
        "id": "iU3H3vNbO_z-",
        "outputId": "b6173c17-13d1-4c40-ca68-d19ac3347f9d"
      },
      "execution_count": null,
      "outputs": [
        {
          "output_type": "display_data",
          "data": {
            "image/png": "[encoded data removed]",
            "text/plain": [
              "<Figure size 432x288 with 1 Axes>"
            ]
          },
          "metadata": {
            "needs_background": "light"
          }
        }
      ]
    },
    {
      "cell_type": "code",
      "source": [
        "#Task 5-3-2\n",
        "c__ = []\n",
        "u1 =[]\n",
        "u2 = []\n",
        "c = [0 for _ in range(10334)]\n",
        "for i in listed_movie.Id:\n",
        "  index = list(movie_once_item).index(i)\n",
        "  c__.append(\"red\")\n",
        "  u1.append(U[index , 0].detach().numpy().item())\n",
        "  u2.append(U[index , 1].detach().numpy().item())\n",
        "\n",
        "plt.xlabel(\"PC1\")\n",
        "plt.ylabel(\"PC2\")\n",
        "plt.scatter(U[:,0].detach().numpy() , U[:,1].detach().numpy(), c =c ,  s = 5)\n",
        "plt.scatter(u1 , u2, c = c__, s = 7)\n",
        "plt.show()"
      ],
      "metadata": {
        "colab": {
          "base_uri": "https://localhost:8080/",
          "height": 279
        },
        "id": "gtzM1xfDSaj9",
        "outputId": "8b7daf99-6000-4799-f87a-8730596640b6"
      },
      "execution_count": null,
      "outputs": [
        {
          "output_type": "display_data",
          "data": {
            "image/png": "[encoded data removed]",
            "text/plain": [
              "<Figure size 432x288 with 1 Axes>"
            ]
          },
          "metadata": {
            "needs_background": "light"
          }
        }
      ]
    },
    {
      "cell_type": "code",
      "source": [
        "#Task 5-3-3\n",
        "c=  list(label) + [10 for _ in range(9724 , 10334)]\n",
        "plt.xlabel(\"PC1\")\n",
        "plt.ylabel(\"PC2\")\n",
        "plt.scatter(U[:,0].detach().numpy() , U[:,1].detach().numpy(), c = c ,  s = 3)\n",
        "plt.show()"
      ],
      "metadata": {
        "colab": {
          "base_uri": "https://localhost:8080/",
          "height": 279
        },
        "id": "UgxJoniIX7wU",
        "outputId": "231eacfb-fc1e-4f83-b859-b6189228381b"
      },
      "execution_count": null,
      "outputs": [
        {
          "output_type": "display_data",
          "data": {
            "image/png": "[encoded data removed]",
            "text/plain": [
              "<Figure size 432x288 with 1 Axes>"
            ]
          },
          "metadata": {
            "needs_background": "light"
          }
        }
      ]
    },
    {
      "cell_type": "code",
      "source": [
        "#Task 5-3-3 - p벡터만\n",
        "c=  list(label) \n",
        "plt.xlabel(\"PC1\")\n",
        "plt.ylabel(\"PC2\")\n",
        "plt.scatter(U[:9724,0].detach().numpy() , U[:9724,1].detach().numpy(), c = c ,  s = 2)\n",
        "plt.show()"
      ],
      "metadata": {
        "colab": {
          "base_uri": "https://localhost:8080/",
          "height": 279
        },
        "id": "kMG7X7ScQohw",
        "outputId": "9a0a8e24-e421-4f7f-e047-ee064a8e653f"
      },
      "execution_count": null,
      "outputs": [
        {
          "output_type": "display_data",
          "data": {
            "image/png": "[encoded data removed]",
            "text/plain": [
              "<Figure size 432x288 with 1 Axes>"
            ]
          },
          "metadata": {
            "needs_background": "light"
          }
        }
      ]
    },
    {
      "cell_type": "code",
      "source": [
        ""
      ],
      "metadata": {
        "id": "upEYklnjRsVq"
      },
      "execution_count": null,
      "outputs": []
    }
  ]
}