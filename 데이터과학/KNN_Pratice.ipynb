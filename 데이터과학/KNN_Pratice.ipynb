{
  "nbformat": 4,
  "nbformat_minor": 0,
  "metadata": {
    "colab": {
      "name": "KNN-Pratice.ipynb",
      "provenance": [],
      "collapsed_sections": [],
      "authorship_tag": "ABX9TyNpaalGb84eZuGL/ElBxGgo",
      "include_colab_link": true
    },
    "kernelspec": {
      "name": "python3",
      "display_name": "Python 3"
    },
    "language_info": {
      "name": "python"
    }
  },
  "cells": [
    {
      "cell_type": "markdown",
      "metadata": {
        "id": "view-in-github",
        "colab_type": "text"
      },
      "source": [
        "<a href=\"https://colab.research.google.com/github/LEFT-BEE/KMU-Algorithm/blob/master/%EB%8D%B0%EC%9D%B4%ED%84%B0%EA%B3%BC%ED%95%99/KNN_Pratice.ipynb\" target=\"_parent\"><img src=\"https://colab.research.google.com/assets/colab-badge.svg\" alt=\"Open In Colab\"/></a>"
      ]
    },
    {
      "cell_type": "markdown",
      "metadata": {
        "id": "FJGBW81P1xwv"
      },
      "source": [
        "# knn알고리즘을 이용한 irir 데이터 분류"
      ]
    },
    {
      "cell_type": "code",
      "metadata": {
        "id": "BxrTrqQV8UMe"
      },
      "source": [
        "import matplotlib.pyplot as plt\n",
        "import random\n",
        "from tqdm import tqdm\n",
        "from sklearn.datasets import load_iris\n",
        "from sklearn.model_selection import train_test_split"
      ],
      "execution_count": 45,
      "outputs": []
    },
    {
      "cell_type": "markdown",
      "metadata": {
        "id": "x6U9XgCx14zz"
      },
      "source": [
        "## 데이터 전처리 및 시각화"
      ]
    },
    {
      "cell_type": "code",
      "metadata": {
        "id": "6OtjVMLla-Kd"
      },
      "source": [
        "iris_data = load_iris()\n",
        "iris_data\n",
        "\n",
        "target = iris_data['target']\n",
        "data = iris_data['data']\n",
        "target_names = iris_data['target_names']\n",
        "\n",
        "dic = { 0 : target_names[0] , 1 : target_names[1] , 2:target_names[2]}"
      ],
      "execution_count": null,
      "outputs": []
    },
    {
      "cell_type": "code",
      "metadata": {
        "colab": {
          "base_uri": "https://localhost:8080/",
          "height": 268
        },
        "id": "IHNvLuamBRTm",
        "outputId": "74695132-c668-4fdb-a3a9-3ea2b5e1f05c"
      },
      "source": [
        "classes = [0 , 1 , 2]\n",
        "\n",
        "for c in classes:\n",
        "  X0 = []\n",
        "  X1 = []\n",
        "  for d , label in zip(data,target) :\n",
        "    if label == c:\n",
        "      X0.append(d[0])\n",
        "      X1.append(d[1])\n",
        "  plt.scatter(X0 ,X1 , alpha = 0.3)\n",
        "plt.show()"
      ],
      "execution_count": 43,
      "outputs": [
        {
          "output_type": "display_data",
          "data": {
            "image/png": "[encoded data removed]",
            "text/plain": [
              "<Figure size 432x288 with 1 Axes>"
            ]
          },
          "metadata": {
            "needs_background": "light"
          }
        }
      ]
    },
    {
      "cell_type": "markdown",
      "metadata": {
        "id": "1GR2JLLH17fW"
      },
      "source": [
        "## knn 알고리즘 정의 및 모델 학습"
      ]
    },
    {
      "cell_type": "code",
      "metadata": {
        "id": "Yh9D8p8thQxl"
      },
      "source": [
        "def distance(a,b):\n",
        "  s= 0\n",
        "  for ai,bi in zip(a,b):\n",
        "    s += (bi-ai)**2\n",
        "  return s **0.5"
      ],
      "execution_count": 114,
      "outputs": []
    },
    {
      "cell_type": "code",
      "metadata": {
        "colab": {
          "base_uri": "https://localhost:8080/",
          "height": 35
        },
        "id": "q0Yv12YpFjma",
        "outputId": "5e8c1426-54bf-431d-96ac-70f2539bdd6b"
      },
      "source": [
        "def knn(query ,k, train , target):\n",
        "  #train데이터 중에서 쿼리와 가장 가까운 k개 찾기\n",
        "  knns = sorted((distance(point[0] , query), point[1]) for point in zip(train , target))[:k]\n",
        "  scores = {}\n",
        "  for dist , label in knns:\n",
        "    scores[label] = scores.get(label ,0) + 1/(dist+1) \n",
        "  resp , score = max(scores.items() , key = lambda x: x[1])\n",
        "  return resp\n",
        "\n",
        "\n",
        "query = [5.5 , 2.8 , 4.3 , 3.0]\n",
        "k = 5\n",
        "ret = knn(query , 5 , x_train ,y_train)\n",
        "dic[ret]"
      ],
      "execution_count": 122,
      "outputs": [
        {
          "output_type": "execute_result",
          "data": {
            "application/vnd.google.colaboratory.intrinsic+json": {
              "type": "string"
            },
            "text/plain": [
              "'virginica'"
            ]
          },
          "metadata": {},
          "execution_count": 122
        }
      ]
    },
    {
      "cell_type": "markdown",
      "metadata": {
        "id": "dIXM-ccw2Bsj"
      },
      "source": [
        "### test "
      ]
    },
    {
      "cell_type": "code",
      "metadata": {
        "colab": {
          "base_uri": "https://localhost:8080/"
        },
        "id": "eA7NyerUxhRV",
        "outputId": "17e4e690-879d-41e5-d118-13d3fd5b7511"
      },
      "source": [
        "x_train, x_test, y_train, y_test = train_test_split(data, target, test_size=0.2, shuffle=True)\n",
        "def knn_model(knn, x_train , y_trian , x_test , y_test , k):\n",
        "  correct_cnt = 0\n",
        "  len_test = len(x_test)\n",
        "  for i in range(len_test):\n",
        "    if knn(x_test[i],k,x_train ,y_train) == y_test[i]:\n",
        "      correct_cnt +=1\n",
        "  acc = correct_cnt / len_test\n",
        "  return acc\n",
        "\n",
        "accuracy = knn_model(knn , x_train , y_train , x_test,  y_test , 3)\n",
        "print(accuracy)"
      ],
      "execution_count": 143,
      "outputs": [
        {
          "output_type": "stream",
          "name": "stdout",
          "text": [
            "0.9333333333333333\n"
          ]
        }
      ]
    },
    {
      "cell_type": "markdown",
      "metadata": {
        "id": "Fj4V1wvL1k33"
      },
      "source": [
        "## Fine tuning : 최적의 k를 찾는다"
      ]
    },
    {
      "cell_type": "code",
      "metadata": {
        "colab": {
          "base_uri": "https://localhost:8080/",
          "height": 301
        },
        "id": "En6uSZszp0sS",
        "outputId": "eecf2ac9-4189-4925-9218-ecf5998e6fea"
      },
      "source": [
        "num_trials = 100\n",
        "train_size = len(x_train)\n",
        "test_size = len(x_test)\n",
        "\n",
        "corrects = [0]*100\n",
        "\n",
        "for _ in tqdm(range(num_trials)):\n",
        "  x_train, x_test, y_train, y_test = train_test_split(data, target, test_size=0.2, shuffle=True ,stratify=target)\n",
        "  for k in range(1,100):\n",
        "    corrects[k] = knn_model(knn , x_train , y_train , x_test,  y_test , k)\n",
        "\n",
        "plt.plot(range(1,100) , corrects[1:] , '-x')\n",
        "plt.show "
      ],
      "execution_count": 148,
      "outputs": [
        {
          "output_type": "stream",
          "name": "stderr",
          "text": [
            "100%|██████████| 100/100 [03:50<00:00,  2.30s/it]\n"
          ]
        },
        {
          "output_type": "execute_result",
          "data": {
            "text/plain": [
              "<function matplotlib.pyplot.show>"
            ]
          },
          "metadata": {},
          "execution_count": 148
        },
        {
          "output_type": "display_data",
          "data": {
            "image/png": "[encoded data removed]",
            "text/plain": [
              "<Figure size 432x288 with 1 Axes>"
            ]
          },
          "metadata": {
            "needs_background": "light"
          }
        }
      ]
    }
  ]
}