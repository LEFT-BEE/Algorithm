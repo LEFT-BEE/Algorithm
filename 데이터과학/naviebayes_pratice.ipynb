{
  "nbformat": 4,
  "nbformat_minor": 0,
  "metadata": {
    "colab": {
      "name": "naviebayes_pratice.ipynb",
      "provenance": [],
      "collapsed_sections": [],
      "authorship_tag": "ABX9TyNlmmlEFnAg0Yf4guIeiAa6",
      "include_colab_link": true
    },
    "kernelspec": {
      "name": "python3",
      "display_name": "Python 3"
    },
    "language_info": {
      "name": "python"
    }
  },
  "cells": [
    {
      "cell_type": "markdown",
      "metadata": {
        "id": "view-in-github",
        "colab_type": "text"
      },
      "source": [
        "<a href=\"https://colab.research.google.com/github/LEFT-BEE/KMU-Algorithm/blob/master/%EB%8D%B0%EC%9D%B4%ED%84%B0%EA%B3%BC%ED%95%99/naviebayes_pratice.ipynb\" target=\"_parent\"><img src=\"https://colab.research.google.com/assets/colab-badge.svg\" alt=\"Open In Colab\"/></a>"
      ]
    },
    {
      "cell_type": "markdown",
      "metadata": {
        "id": "SH6qksCzmiV9"
      },
      "source": [
        "## 데이터 전처리"
      ]
    },
    {
      "cell_type": "code",
      "metadata": {
        "id": "zly9RvXxCfjk"
      },
      "source": [
        "import requests\n",
        "import zipfile as zipfile\n",
        "import matplotlib.pyplot as plt\n",
        "import pandas as pd\n",
        "import re\n",
        "import random\n",
        "from collections import Counter"
      ],
      "execution_count": 1,
      "outputs": []
    },
    {
      "cell_type": "code",
      "metadata": {
        "id": "EDFRjfruBO5k"
      },
      "source": [
        "#데이터 받아오기 , zip풀기\n",
        "url = \"https://www.dt.fee.unicamp.br/~tiago/smsspamcollection/smsspamcollection.zip\"\n",
        "r = requests.get(url)\n",
        "open(\"spam.zip\", \"wb\").write(r.content)\n",
        "zipfile.ZipFile(\"spam.zip\").extractall(\"./\")\n",
        "pd.read_csv(\"SMSSpamCollection.txt\" , sep = \"\\t\" , names = [\"cls\" , \"txt\"])"
      ],
      "execution_count": 6,
      "outputs": []
    },
    {
      "cell_type": "code",
      "metadata": {
        "id": "G2ymGkQGJfrx"
      },
      "source": [
        "data = [line.strip().split(\"\\t\") for line in open(\"SMSSpamCollection.txt\", \"r\")]\n",
        "for d in data: #d[1] is data\n",
        " d[1] = set(re.findall(\"[a-z0-1_]+\", d[1].lower()))\n",
        "\n",
        "random.shuffle(data)\n",
        "train_len = int(len(data) * 0.8)\n",
        "test_len = len(data) - train_len\n",
        "train = data[:train_len]\n",
        "test = data[train_len:]"
      ],
      "execution_count": 8,
      "outputs": []
    },
    {
      "cell_type": "markdown",
      "metadata": {
        "id": "oezFw1E1nRqQ"
      },
      "source": [
        "## 필요한 데이터 구하기"
      ]
    },
    {
      "cell_type": "code",
      "metadata": {
        "id": "CBn_gxmiJAw4"
      },
      "source": [
        "#train데이터에서 naive nayes 계산을 위한 값들을 계한해놓기\n",
        "#priror prob , p(spam) , p(ham)\n",
        "#라플라스 스무딩 -> 관측한 메일에서 한번도 등장하지 않은 단어가 있으면, 예측할 때 결과가 이상해지는 문제 해결\n",
        "#하나의 메일에 모든 단어가 하나씩 포함되어있음\n",
        "alpha = 0.1\n",
        "\n",
        "n_total = len(train)\n",
        "n_spam = sum(1 for cls,bow in train if cls ==\"spam\")\n",
        "n_ham = sum(1 for cls,bow in train if cls ==\"ham\")\n",
        "#사전확률 구하기\n",
        "prior_spam = (n_spam+alpha) / (n_total+ 2*alpha)\n",
        "prior_ham = (n_ham+alpha) / (n_total+ 2*alpha)"
      ],
      "execution_count": 9,
      "outputs": []
    },
    {
      "cell_type": "code",
      "metadata": {
        "colab": {
          "base_uri": "https://localhost:8080/"
        },
        "id": "h8YXUMsnJj18",
        "outputId": "42db67e0-bbe1-4aa7-a8d1-dc3828edeeb8"
      },
      "source": [
        "# 단어의 가능도 P(w|spam) , p(w|ham)\n",
        "spam_words= {}\n",
        "ham_words = {}\n",
        "for cls , bow in train:\n",
        "  for word in bow:\n",
        "    if cls == \"spam\":\n",
        "      if word not in spam_words:\n",
        "        spam_words[word] = 0\n",
        "      spam_words[word] +=1\n",
        "    else:\n",
        "      if word not in ham_words:\n",
        "        ham_words[word] = 0\n",
        "      ham_words[word] += 1\n",
        "\n",
        "print(f\" buy 단어의 등장 횟수 : spam - {spam_words['buy']} , ham - {ham_words['buy']}\")"
      ],
      "execution_count": 19,
      "outputs": [
        {
          "output_type": "stream",
          "name": "stdout",
          "text": [
            "  단어의 등장 횟수 : spam - 4 , ham - 38\n"
          ]
        }
      ]
    },
    {
      "cell_type": "code",
      "metadata": {
        "id": "lBu2pgmmMtlb"
      },
      "source": [
        "#counter를 이용하여 각각의 단어가 얼마나 들어있는지 확인 \n",
        "spam_words = Counter(word for cls , bow in train\n",
        "  for word in bow\n",
        "  if cls =='spam')\n",
        "\n",
        "ham_words = Counter(word for cls , bow in train\n",
        "  for word in bow\n",
        "  if cls =='ham')"
      ],
      "execution_count": 20,
      "outputs": []
    },
    {
      "cell_type": "markdown",
      "metadata": {
        "id": "wki5vFk90M1P"
      },
      "source": [
        "## 예측하기"
      ]
    },
    {
      "cell_type": "code",
      "metadata": {
        "id": "DUm6hU0_NOy9"
      },
      "source": [
        "def predict(bow):\n",
        "  #p(W|spam) = w를 포함한 spam 수 + alpha / 전체 spam수 +alpha \n",
        "  #spam_score = P(spam) * P(w1|spam) * p(w2|spam) ...\n",
        "  \n",
        "  spam_score = prior_spam\n",
        "  ham_score  = prior_ham\n",
        "  for word in bow:\n",
        "    spam_score *=(spam_words[word] + alpha) / (n_spam+alpha)\n",
        "    ham_score *= (ham_words[word] +alpha) / (n_ham + alpha)\n",
        "\n",
        "  if spam_score < ham_score:\n",
        "    return \"ham\"\n",
        "  else:\n",
        "    return \"spam\""
      ],
      "execution_count": 21,
      "outputs": []
    },
    {
      "cell_type": "code",
      "metadata": {
        "colab": {
          "base_uri": "https://localhost:8080/"
        },
        "id": "VVFDUqioOjUX",
        "outputId": "3afbd9e1-59a2-4d48-c547-bdf9b4d5b354"
      },
      "source": [
        "#confusion matrix\n",
        "tp , tn , fp ,fn = 0,0,0,0\n",
        "for ans ,bow in test:\n",
        "  pred = predict(bow)\n",
        "  if pred == 'spam':\n",
        "    if ans == 'spam':\n",
        "      tp +=1\n",
        "    else:\n",
        "      fp +=1\n",
        "  else:\n",
        "    if ans == 'ham':\n",
        "      tn +=1\n",
        "    else:\n",
        "      fn +=1\n",
        "# 전체 테스트 수 중 맞힌 수 \n",
        "accuracy = (tp + tn) / (tp+tn+fp+fn)\n",
        "#실제스팸 / 스팸예측\n",
        "precision =  tp / (tp + fp)\n",
        "# 내가 찾아낸 스팸수 / 실제 스팸 수 \n",
        "recall = tp /(tp + fn)\n",
        "\n",
        "\n",
        "f1 = 2 *precision * recall / (precision + recall)\n",
        "print(f\"F1 soore is {round(f1,3)}%\")"
      ],
      "execution_count": 23,
      "outputs": [
        {
          "output_type": "stream",
          "name": "stdout",
          "text": [
            "F1 soore is 0.837%\n"
          ]
        }
      ]
    },
    {
      "cell_type": "code",
      "metadata": {
        "id": "08Ivk-4ul2U8"
      },
      "source": [
        ""
      ],
      "execution_count": null,
      "outputs": []
    }
  ]
}